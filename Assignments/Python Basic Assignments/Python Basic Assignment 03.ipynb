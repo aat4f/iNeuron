{
 "cells": [
  {
   "cell_type": "markdown",
   "id": "0c70263d",
   "metadata": {},
   "source": [
    "## Python Basic Assignment 03"
   ]
  },
  {
   "cell_type": "markdown",
   "id": "4540bbb0",
   "metadata": {},
   "source": [
    "## 1. Why are functions advantageous to have in your programs?\n",
    "##### Answer.\n",
    "Functions allow us to reuse a code repeatedly."
   ]
  },
  {
   "cell_type": "markdown",
   "id": "ade7b66c",
   "metadata": {},
   "source": [
    "## 2. When does the code in a function run: when it's specified or when it's called?\n",
    "##### Answer.\n",
    "The code in a function runs when it is called."
   ]
  },
  {
   "cell_type": "markdown",
   "id": "71b829df",
   "metadata": {},
   "source": [
    "## 3. What statement creates a function?\n",
    "##### Answer.\n",
    "The 'def' keyword creates a function."
   ]
  },
  {
   "cell_type": "code",
   "execution_count": 5,
   "id": "6e98afef",
   "metadata": {},
   "outputs": [],
   "source": [
    "def temp_function():\n",
    "    print(\"Hi\")"
   ]
  },
  {
   "cell_type": "markdown",
   "id": "88fe88f9",
   "metadata": {},
   "source": [
    "## 4. What is the difference between a function and a function call?\n",
    "##### Answer.\n",
    "A function call tells the compiler about a function's name, return type, and parameters. A function provides the actual body of the function."
   ]
  },
  {
   "cell_type": "markdown",
   "id": "d732dc0d",
   "metadata": {},
   "source": [
    "## 5. How many global scopes are there in a Python program? How many local scopes?\n",
    "##### Answer.\n",
    "A program can have 1 global scope and 1 local scope."
   ]
  },
  {
   "cell_type": "markdown",
   "id": "b0d2df29",
   "metadata": {},
   "source": [
    "## 6. What happens to variables in a local scope when the function call returns?\n",
    "##### Answer.\n",
    "Variables in a local scope become undefined after the function call completes"
   ]
  },
  {
   "cell_type": "markdown",
   "id": "7f2c4ee0",
   "metadata": {},
   "source": [
    "## 7. What is the concept of a return value? Is it possible to have a return value in an expression?\n",
    "##### Answer.\n",
    "A return is a value that a function returns to the calling script or function when it completes its task. Function return value can be an expression."
   ]
  },
  {
   "cell_type": "markdown",
   "id": "3865e38b",
   "metadata": {},
   "source": [
    "## 8. If a function does not have a return statement, what is the return value of a call to that function?\n",
    "##### Answer.\n",
    "f a function doesn't specify a return statement, it returns None."
   ]
  },
  {
   "cell_type": "markdown",
   "id": "d6a5cfab",
   "metadata": {},
   "source": [
    "## 9. How do you make a function variable refer to the global variable?\n",
    "##### Answer.\n",
    "If you want to refer to a global variable in a function, you can use the global keyword to declare which variables are global."
   ]
  },
  {
   "cell_type": "markdown",
   "id": "6c7f8c93",
   "metadata": {},
   "source": [
    "## 10. What is the data type of None?\n",
    "##### Answer.\n",
    "The None keyword is used to define a null value, or no value at all. None is a data type of its own (NoneType) and only None can be None."
   ]
  },
  {
   "cell_type": "markdown",
   "id": "52f46d16",
   "metadata": {},
   "source": [
    "## 11. What does the sentence import areallyourpetsnamederic do?\n",
    "##### Answer.\n",
    "Imports the module 'areallyourpetsnamederic'"
   ]
  },
  {
   "cell_type": "markdown",
   "id": "8a3358ae",
   "metadata": {},
   "source": [
    "## 12. If you had a bacon() feature in a spam module, what would you call it after importing spam?\n",
    "##### Answer."
   ]
  },
  {
   "cell_type": "code",
   "execution_count": 3,
   "id": "2a1a3dbd",
   "metadata": {},
   "outputs": [],
   "source": [
    "# import spam\n",
    "# spam.bacon()"
   ]
  },
  {
   "cell_type": "markdown",
   "id": "49e2aed2",
   "metadata": {},
   "source": [
    "## 13. What can you do to save a program from crashing if it encounters an error?\n",
    "##### Answer.\n",
    "To save the program from crashing over a runtime error we can use the try and except statement.\n",
    "It will save from only the runtime error not the compile time error."
   ]
  },
  {
   "cell_type": "markdown",
   "id": "42a07e6f",
   "metadata": {},
   "source": [
    "## 14. What is the purpose of the try clause? What is the purpose of the except clause?\n",
    "##### Answer.\n",
    "The try clause contains the code, whereas except clause catches any error caused by the code."
   ]
  }
 ],
 "metadata": {
  "kernelspec": {
   "display_name": "Python 3 (ipykernel)",
   "language": "python",
   "name": "python3"
  },
  "language_info": {
   "codemirror_mode": {
    "name": "ipython",
    "version": 3
   },
   "file_extension": ".py",
   "mimetype": "text/x-python",
   "name": "python",
   "nbconvert_exporter": "python",
   "pygments_lexer": "ipython3",
   "version": "3.9.7"
  }
 },
 "nbformat": 4,
 "nbformat_minor": 5
}
