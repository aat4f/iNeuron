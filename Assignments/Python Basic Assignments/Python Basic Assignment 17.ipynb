{
 "cells": [
  {
   "cell_type": "markdown",
   "id": "8502e99c",
   "metadata": {},
   "source": [
    "## Python Basic Assignment 17"
   ]
  },
  {
   "cell_type": "markdown",
   "id": "68be2772",
   "metadata": {},
   "source": [
    "## 1. Assign the value 7 to the variable guess_me. Then, write the conditional tests (if, else, and elif) to print the string 'too low' if guess_me is less than 7, 'too high' if greater than 7, and 'just right' if equal to 7.\n",
    "##### Answer."
   ]
  },
  {
   "cell_type": "code",
   "execution_count": 1,
   "id": "489a8133",
   "metadata": {},
   "outputs": [
    {
     "name": "stdout",
     "output_type": "stream",
     "text": [
      "Just right\n"
     ]
    }
   ],
   "source": [
    "guess_me = 7\n",
    "\n",
    "if guess_me < 7:\n",
    "    print (\"Too low\")\n",
    "elif guess_me > 7:\n",
    "    print (\"Too high\")\n",
    "else:\n",
    "    print (\"Just right\")"
   ]
  },
  {
   "cell_type": "markdown",
   "id": "06eeed49",
   "metadata": {},
   "source": [
    "## 2. Assign the value 7 to the variable guess_me and the value 1 to the variable start. Write a while loop that compares start with guess_me. Print too low if start is less than guess me. If start equals guess_me, print 'found it!' and exit the loop. If start is greater than guess_me, print 'oops' and exit the loop. Increment start at the end of the loop.\n",
    "##### Answer."
   ]
  },
  {
   "cell_type": "code",
   "execution_count": 4,
   "id": "2f290385",
   "metadata": {},
   "outputs": [
    {
     "name": "stdout",
     "output_type": "stream",
     "text": [
      "too low\n",
      "too low\n",
      "too low\n",
      "too low\n",
      "too low\n",
      "too low\n",
      "found it!\n"
     ]
    }
   ],
   "source": [
    "guess_me = 7\n",
    "start = 1\n",
    "while(True):\n",
    "    if start < guess_me:\n",
    "        print(\"too low\")\n",
    "    elif start == guess_me:\n",
    "        print(\"found it!\")\n",
    "        break\n",
    "    elif start > guess_me:\n",
    "        print(\"oops\")\n",
    "        break\n",
    "    start += 1"
   ]
  },
  {
   "cell_type": "markdown",
   "id": "709d8175",
   "metadata": {},
   "source": [
    "## 3. Print the following values of the list [3, 2, 1, 0] using a for loop.\n",
    "##### Answer."
   ]
  },
  {
   "cell_type": "code",
   "execution_count": 5,
   "id": "301a7c5b",
   "metadata": {},
   "outputs": [
    {
     "name": "stdout",
     "output_type": "stream",
     "text": [
      "3\n",
      "2\n",
      "1\n",
      "0\n"
     ]
    }
   ],
   "source": [
    "list = [3,2,1,0]\n",
    "\n",
    "for i in list:\n",
    "    print (i)"
   ]
  },
  {
   "cell_type": "markdown",
   "id": "ab0726a0",
   "metadata": {},
   "source": [
    "## 4. Use a list comprehension to make a list of the even numbers in range(10)\n",
    "##### Answer."
   ]
  },
  {
   "cell_type": "code",
   "execution_count": 7,
   "id": "e03d16b0",
   "metadata": {},
   "outputs": [
    {
     "data": {
      "text/plain": [
       "[0, 2, 4, 6, 8]"
      ]
     },
     "execution_count": 7,
     "metadata": {},
     "output_type": "execute_result"
    }
   ],
   "source": [
    "# without list comprehension\n",
    "\n",
    "even_numbers = []\n",
    "for i in range(10):\n",
    "    if i%2 == 0:\n",
    "        even_numbers.append(i)\n",
    "\n",
    "even_numbers"
   ]
  },
  {
   "cell_type": "code",
   "execution_count": 8,
   "id": "41957d97",
   "metadata": {},
   "outputs": [
    {
     "data": {
      "text/plain": [
       "[0, 2, 4, 6, 8]"
      ]
     },
     "execution_count": 8,
     "metadata": {},
     "output_type": "execute_result"
    }
   ],
   "source": [
    "# with list comprehension\n",
    "\n",
    "even_numbers = [i for i in range(10) if i%2 == 0]\n",
    "\n",
    "even_numbers"
   ]
  },
  {
   "cell_type": "markdown",
   "id": "d3f6373a",
   "metadata": {},
   "source": [
    "## 5. Use a dictionary comprehension to create the dictionary squares. Use range(10) to return the keys, and use the square of each key as its value.\n",
    "##### Answer."
   ]
  },
  {
   "cell_type": "code",
   "execution_count": 10,
   "id": "e8527592",
   "metadata": {},
   "outputs": [
    {
     "data": {
      "text/plain": [
       "{0: 0, 1: 1, 2: 4, 3: 9, 4: 16, 5: 25, 6: 36, 7: 49, 8: 64, 9: 81}"
      ]
     },
     "execution_count": 10,
     "metadata": {},
     "output_type": "execute_result"
    }
   ],
   "source": [
    "# without dictionary comprehension\n",
    "\n",
    "squares = {}\n",
    "\n",
    "for i in range (10):\n",
    "    squares[i] = i**2\n",
    "\n",
    "squares"
   ]
  },
  {
   "cell_type": "code",
   "execution_count": 12,
   "id": "2f0dd968",
   "metadata": {},
   "outputs": [
    {
     "data": {
      "text/plain": [
       "{0: 0, 1: 1, 2: 4, 3: 9, 4: 16, 5: 25, 6: 36, 7: 49, 8: 64, 9: 81}"
      ]
     },
     "execution_count": 12,
     "metadata": {},
     "output_type": "execute_result"
    }
   ],
   "source": [
    "# with dictionary comprehension\n",
    "\n",
    "squares = {i:i**2 for i in range(10)}\n",
    "\n",
    "squares"
   ]
  },
  {
   "cell_type": "markdown",
   "id": "69fa82fd",
   "metadata": {},
   "source": [
    "## 6. Construct the set odd from the odd numbers in the range using a set comprehension (10).\n",
    "##### Answer."
   ]
  },
  {
   "cell_type": "code",
   "execution_count": 15,
   "id": "0a2c26b0",
   "metadata": {},
   "outputs": [
    {
     "data": {
      "text/plain": [
       "{1, 3, 5, 7, 9}"
      ]
     },
     "execution_count": 15,
     "metadata": {},
     "output_type": "execute_result"
    }
   ],
   "source": [
    "odd = {i for i in range(10) if i % 2 != 0}\n",
    "\n",
    "odd"
   ]
  },
  {
   "cell_type": "code",
   "execution_count": 16,
   "id": "51227553",
   "metadata": {},
   "outputs": [
    {
     "data": {
      "text/plain": [
       "set"
      ]
     },
     "execution_count": 16,
     "metadata": {},
     "output_type": "execute_result"
    }
   ],
   "source": [
    "type(odd)"
   ]
  },
  {
   "cell_type": "markdown",
   "id": "718857f3",
   "metadata": {},
   "source": [
    "## 7. Use a generator comprehension to return the string 'Got ' and a number for the numbers in range(10). Iterate through this by using a for loop.\n",
    "##### Answer."
   ]
  },
  {
   "cell_type": "code",
   "execution_count": 21,
   "id": "25e4b502",
   "metadata": {},
   "outputs": [
    {
     "name": "stdout",
     "output_type": "stream",
     "text": [
      "Got 0, Got 1, Got 2, Got 3, Got 4, Got 5, Got 6, Got 7, Got 8, Got 9, "
     ]
    }
   ],
   "source": [
    "generator = ('Got %d'%i for i in range(10))\n",
    "\n",
    "for i in generator:\n",
    "    print(i, end = ', ')"
   ]
  },
  {
   "cell_type": "markdown",
   "id": "480e6462",
   "metadata": {},
   "source": [
    "## 8. Define a function called good that returns the list ['Harry', 'Ron', 'Hermione'].\n",
    "##### Answer."
   ]
  },
  {
   "cell_type": "code",
   "execution_count": 27,
   "id": "d010dee2",
   "metadata": {},
   "outputs": [
    {
     "data": {
      "text/plain": [
       "['Harry', 'Ron', 'Hermione']"
      ]
     },
     "execution_count": 27,
     "metadata": {},
     "output_type": "execute_result"
    }
   ],
   "source": [
    "def good():\n",
    "    return ['Harry', 'Ron', 'Hermione']\n",
    "\n",
    "good()"
   ]
  },
  {
   "cell_type": "markdown",
   "id": "432dedd9",
   "metadata": {},
   "source": [
    "## 9. Define a generator function called get_odds that returns the odd numbers from range(10). Use a for loop to find and print the third value returned.\n",
    "##### Answer."
   ]
  },
  {
   "cell_type": "code",
   "execution_count": 34,
   "id": "99d48e7d",
   "metadata": {},
   "outputs": [
    {
     "name": "stdout",
     "output_type": "stream",
     "text": [
      "The third odd number is:  5\n"
     ]
    }
   ],
   "source": [
    "def get_odds():\n",
    "    for i in range(10):\n",
    "        if i%2 !=0:\n",
    "            yield i\n",
    "\n",
    "count = 1\n",
    "for i in get_odds():\n",
    "    if count == 3:\n",
    "        print(\"The third odd number is: \", i)\n",
    "        break\n",
    "    count += 1"
   ]
  },
  {
   "cell_type": "markdown",
   "id": "1d444a83",
   "metadata": {},
   "source": [
    "## 10. Define an exception called OopsException. Raise this exception to see what happens. Then write the code to catch this exception and print 'Caught an oops'.\n",
    "##### Answer."
   ]
  },
  {
   "cell_type": "code",
   "execution_count": 40,
   "id": "ec4341b0",
   "metadata": {},
   "outputs": [
    {
     "name": "stdout",
     "output_type": "stream",
     "text": [
      "Caught an oops\n"
     ]
    }
   ],
   "source": [
    "class OopsException(Exception):\n",
    "    pass\n",
    "\n",
    "\n",
    "def with_exception(a):\n",
    "    if a < 0:\n",
    "        raise OopsException(a)\n",
    "\n",
    "\n",
    "try:\n",
    "    with_exception(-1)\n",
    "except OopsException as err:\n",
    "    print('Caught an oops')"
   ]
  },
  {
   "cell_type": "markdown",
   "id": "28669c0b",
   "metadata": {},
   "source": [
    "## 11. Use zip() to make a dictionary called movies that pairs these lists: titles = ['Creature of Habit', 'Crewel Fate'] and plots = ['A nun turns into a monster', 'A haunted yarn shop'].\n",
    "##### Answer."
   ]
  },
  {
   "cell_type": "code",
   "execution_count": 42,
   "id": "84c51b98",
   "metadata": {},
   "outputs": [
    {
     "name": "stdout",
     "output_type": "stream",
     "text": [
      "{'Creature of Habit': 'A nun turns into a monster', 'Crewel Fate': 'A haunted yarn shop'}\n"
     ]
    }
   ],
   "source": [
    "titles = ['Creature of Habit', 'Crewel Fate']\n",
    "plots = ['A nun turns into a monster', 'A haunted yarn shop']\n",
    "\n",
    "movies = {titles:plots for titles,plots in zip(titles,plots)}\n",
    "\n",
    "print(movies)"
   ]
  }
 ],
 "metadata": {
  "kernelspec": {
   "display_name": "Python 3 (ipykernel)",
   "language": "python",
   "name": "python3"
  },
  "language_info": {
   "codemirror_mode": {
    "name": "ipython",
    "version": 3
   },
   "file_extension": ".py",
   "mimetype": "text/x-python",
   "name": "python",
   "nbconvert_exporter": "python",
   "pygments_lexer": "ipython3",
   "version": "3.9.7"
  }
 },
 "nbformat": 4,
 "nbformat_minor": 5
}
