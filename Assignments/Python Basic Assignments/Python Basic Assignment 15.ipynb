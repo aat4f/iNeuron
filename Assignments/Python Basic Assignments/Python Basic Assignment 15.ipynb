{
 "cells": [
  {
   "cell_type": "markdown",
   "id": "f9f90032",
   "metadata": {},
   "source": [
    "## Python Basic Assignment 15"
   ]
  },
  {
   "cell_type": "markdown",
   "id": "bb1a51f9",
   "metadata": {},
   "source": [
    "## 1.How many seconds are in an hour? Use the interactive interpreter as a calculator and multiply the number of seconds in a minute (60) by the number of minutes in an hour (also 60).\n",
    "##### Answer."
   ]
  },
  {
   "cell_type": "code",
   "execution_count": 1,
   "id": "4c701508",
   "metadata": {},
   "outputs": [
    {
     "data": {
      "text/plain": [
       "3600"
      ]
     },
     "execution_count": 1,
     "metadata": {},
     "output_type": "execute_result"
    }
   ],
   "source": [
    "60*60"
   ]
  },
  {
   "cell_type": "markdown",
   "id": "74456711",
   "metadata": {},
   "source": [
    "## 2. Assign the result from the previous task (seconds in an hour) to a variable called seconds_per_hour.\n",
    "##### Answer."
   ]
  },
  {
   "cell_type": "code",
   "execution_count": 3,
   "id": "3351f3dc",
   "metadata": {},
   "outputs": [
    {
     "data": {
      "text/plain": [
       "3600"
      ]
     },
     "execution_count": 3,
     "metadata": {},
     "output_type": "execute_result"
    }
   ],
   "source": [
    "seconds_per_hour = 60*60\n",
    "\n",
    "seconds_per_hour"
   ]
  },
  {
   "cell_type": "markdown",
   "id": "ce3d8884",
   "metadata": {},
   "source": [
    "## 3. How many seconds do you think there are in a day? Make use of the variables seconds per hour and minutes per hour.\n",
    "##### Answer."
   ]
  },
  {
   "cell_type": "code",
   "execution_count": 7,
   "id": "3918a860",
   "metadata": {},
   "outputs": [
    {
     "data": {
      "text/plain": [
       "86400.0"
      ]
     },
     "execution_count": 7,
     "metadata": {},
     "output_type": "execute_result"
    }
   ],
   "source": [
    "minutes_per_hour = seconds_per_hour/60\n",
    "\n",
    "minutes_per_hour*24*60"
   ]
  },
  {
   "cell_type": "markdown",
   "id": "0f68e493",
   "metadata": {},
   "source": [
    "## 4. Calculate seconds per day again, but this time save the result in a variable called seconds_per_day\n",
    "##### Answer."
   ]
  },
  {
   "cell_type": "code",
   "execution_count": 8,
   "id": "5f57a143",
   "metadata": {},
   "outputs": [
    {
     "data": {
      "text/plain": [
       "86400"
      ]
     },
     "execution_count": 8,
     "metadata": {},
     "output_type": "execute_result"
    }
   ],
   "source": [
    "seconds_per_day = 24 * seconds_per_hour\n",
    "\n",
    "seconds_per_day"
   ]
  },
  {
   "cell_type": "markdown",
   "id": "0d1abf0a",
   "metadata": {},
   "source": [
    "## 5. Divide seconds_per_day by seconds_per_hour. Use floating-point (/) division.\n",
    "##### Answer."
   ]
  },
  {
   "cell_type": "code",
   "execution_count": 9,
   "id": "5d7c09c9",
   "metadata": {},
   "outputs": [
    {
     "data": {
      "text/plain": [
       "24.0"
      ]
     },
     "execution_count": 9,
     "metadata": {},
     "output_type": "execute_result"
    }
   ],
   "source": [
    "seconds_per_day/seconds_per_hour"
   ]
  },
  {
   "cell_type": "markdown",
   "id": "1c63b8ce",
   "metadata": {},
   "source": [
    "## 6. Divide seconds_per_day by seconds_per_hour, using integer (//) division. Did this number agree with the floating-point value from the previous question, aside from the final .0?\n",
    "##### Answer.\n",
    "Yes, agree"
   ]
  },
  {
   "cell_type": "code",
   "execution_count": 10,
   "id": "829ac283",
   "metadata": {},
   "outputs": [
    {
     "data": {
      "text/plain": [
       "24"
      ]
     },
     "execution_count": 10,
     "metadata": {},
     "output_type": "execute_result"
    }
   ],
   "source": [
    "seconds_per_day//seconds_per_hour"
   ]
  },
  {
   "cell_type": "markdown",
   "id": "d1754b05",
   "metadata": {},
   "source": [
    "## 7. Write a generator, genPrimes, that returns the sequence of prime numbers on successive calls to its next() method: 2, 3, 5, 7, 11, ...\n",
    "##### Answer."
   ]
  },
  {
   "cell_type": "code",
   "execution_count": 16,
   "id": "3c77eeaa",
   "metadata": {},
   "outputs": [],
   "source": [
    "def Prime(n): \n",
    "    num = 2\n",
    "    while num <= n:\n",
    "        for i in range(2, num):\n",
    "            if num % i == 0:\n",
    "                break\n",
    "        else:\n",
    "            yield num\n",
    "        num += 1"
   ]
  },
  {
   "cell_type": "code",
   "execution_count": 24,
   "id": "21b60486",
   "metadata": {},
   "outputs": [],
   "source": [
    "prime_numbers = Prime(30)"
   ]
  },
  {
   "cell_type": "code",
   "execution_count": 25,
   "id": "367faac7",
   "metadata": {},
   "outputs": [
    {
     "name": "stdout",
     "output_type": "stream",
     "text": [
      "3\n",
      "7\n",
      "13\n",
      "19\n",
      "29\n"
     ]
    }
   ],
   "source": [
    "for i in prime_numbers:\n",
    "    print(next(prime_numbers))"
   ]
  }
 ],
 "metadata": {
  "kernelspec": {
   "display_name": "Python 3 (ipykernel)",
   "language": "python",
   "name": "python3"
  },
  "language_info": {
   "codemirror_mode": {
    "name": "ipython",
    "version": 3
   },
   "file_extension": ".py",
   "mimetype": "text/x-python",
   "name": "python",
   "nbconvert_exporter": "python",
   "pygments_lexer": "ipython3",
   "version": "3.9.7"
  }
 },
 "nbformat": 4,
 "nbformat_minor": 5
}
