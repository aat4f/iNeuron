{
 "cells": [
  {
   "cell_type": "markdown",
   "id": "00ac146d",
   "metadata": {},
   "source": [
    "## Python Basic Assignment 19"
   ]
  },
  {
   "cell_type": "markdown",
   "id": "0be8ef85",
   "metadata": {},
   "source": [
    "## 1. Make a class called Thing with no contents and print it. Then, create an object called example from this class and also print it. Are the printed values the same or different?\n",
    "##### Answer."
   ]
  },
  {
   "cell_type": "code",
   "execution_count": 2,
   "id": "b2c48143",
   "metadata": {},
   "outputs": [],
   "source": [
    "class Thing :\n",
    "    pass"
   ]
  },
  {
   "cell_type": "code",
   "execution_count": 4,
   "id": "3da8a92c",
   "metadata": {},
   "outputs": [
    {
     "name": "stdout",
     "output_type": "stream",
     "text": [
      "<__main__.Thing object at 0x0000020855530F40>\n"
     ]
    }
   ],
   "source": [
    "print (Thing())"
   ]
  },
  {
   "cell_type": "code",
   "execution_count": 5,
   "id": "f844741c",
   "metadata": {},
   "outputs": [],
   "source": [
    "example = Thing()"
   ]
  },
  {
   "cell_type": "code",
   "execution_count": 6,
   "id": "8e111ed3",
   "metadata": {},
   "outputs": [
    {
     "name": "stdout",
     "output_type": "stream",
     "text": [
      "<__main__.Thing object at 0x0000020855544DC0>\n"
     ]
    }
   ],
   "source": [
    "print (example)"
   ]
  },
  {
   "cell_type": "markdown",
   "id": "4866c8fa",
   "metadata": {},
   "source": [
    "The printed values are different."
   ]
  },
  {
   "cell_type": "markdown",
   "id": "1a1bb668",
   "metadata": {},
   "source": [
    "## 2. Create a new class called Thing2 and add the value 'abc' to the letters class attribute. Letters should be printed.\n",
    "##### Answer."
   ]
  },
  {
   "cell_type": "code",
   "execution_count": 7,
   "id": "937d11a5",
   "metadata": {},
   "outputs": [
    {
     "name": "stdout",
     "output_type": "stream",
     "text": [
      "abc\n"
     ]
    }
   ],
   "source": [
    "class Thing2:\n",
    "    letters = 'abc'\n",
    "\n",
    "print(Thing2.letters)"
   ]
  },
  {
   "cell_type": "markdown",
   "id": "6300cc0d",
   "metadata": {},
   "source": [
    "## 3. Make yet another class called, of course, Thing3. This time, assign the value 'xyz' to an instance (object) attribute called letters. Print letters. Do you need to make an object from the class to do this?\n",
    "##### Answer."
   ]
  },
  {
   "cell_type": "code",
   "execution_count": 9,
   "id": "f5dca762",
   "metadata": {},
   "outputs": [],
   "source": [
    "class Thing3 :\n",
    "    def __init__(self, letters) :\n",
    "        self.letters = letters\n",
    "    def output(self) :\n",
    "        print(self.letters)"
   ]
  },
  {
   "cell_type": "code",
   "execution_count": 10,
   "id": "8e7e4083",
   "metadata": {},
   "outputs": [],
   "source": [
    "a = Thing3('xyz')"
   ]
  },
  {
   "cell_type": "code",
   "execution_count": 12,
   "id": "e0c7e9c8",
   "metadata": {},
   "outputs": [
    {
     "name": "stdout",
     "output_type": "stream",
     "text": [
      "xyz\n"
     ]
    }
   ],
   "source": [
    "a.output()"
   ]
  },
  {
   "cell_type": "markdown",
   "id": "b63db289",
   "metadata": {},
   "source": [
    "Yes, we need to make an object from the class."
   ]
  },
  {
   "cell_type": "markdown",
   "id": "1f2e3968",
   "metadata": {},
   "source": [
    "## 4. Create an Element class with the instance attributes name, symbol, and number. Create a class object with the values 'Hydrogen,' 'H,' and 1.\n",
    "##### Answer."
   ]
  },
  {
   "cell_type": "code",
   "execution_count": 13,
   "id": "6c1a4232",
   "metadata": {},
   "outputs": [],
   "source": [
    "class Element :\n",
    "    def __init__(self, name, symbol, number):\n",
    "        self.name = name\n",
    "        self.symbol = symbol\n",
    "        self.number = number"
   ]
  },
  {
   "cell_type": "code",
   "execution_count": 16,
   "id": "accef4e9",
   "metadata": {},
   "outputs": [],
   "source": [
    "b = Element('Hydrogen', 'H', 1)"
   ]
  },
  {
   "cell_type": "markdown",
   "id": "b908d347",
   "metadata": {},
   "source": [
    "## 5. Make a dictionary with these keys and values: 'name': 'Hydrogen', 'symbol': 'H', 'number': 1. Then, create an object called hydrogen from class Element using this dictionary.\n",
    "##### Answer."
   ]
  },
  {
   "cell_type": "code",
   "execution_count": 20,
   "id": "e3296486",
   "metadata": {},
   "outputs": [
    {
     "name": "stdout",
     "output_type": "stream",
     "text": [
      "Hydrogen H 1\n"
     ]
    }
   ],
   "source": [
    "dict1 = {\n",
    "    'name': 'Hydrogen',\n",
    "    'symbol': 'H',\n",
    "    'number': 1\n",
    "}\n",
    "\n",
    "Hydrogen = Element(**dict1)\n",
    "\n",
    "print(Hydrogen.name, Hydrogen.symbol, Hydrogen.number)"
   ]
  },
  {
   "cell_type": "markdown",
   "id": "36806f39",
   "metadata": {},
   "source": [
    "## 6. For the Element class, define a method called dump() that prints the values of the object’s attributes (name, symbol, and number). Create the hydrogen object from this new definition and use dump() to print its attributes.\n",
    "##### Answer."
   ]
  },
  {
   "cell_type": "code",
   "execution_count": 23,
   "id": "eb584936",
   "metadata": {},
   "outputs": [
    {
     "name": "stdout",
     "output_type": "stream",
     "text": [
      "Hydrogen H 1\n"
     ]
    }
   ],
   "source": [
    "class Element :\n",
    "    def __init__(self, name, symbol, number):\n",
    "        self.name = name\n",
    "        self.symbol = symbol\n",
    "        self.number = number\n",
    "    def dump(self):\n",
    "        print(self.name,self.symbol,self.number)\n",
    "        \n",
    "Hydrogen = Element('Hydrogen','H',1)\n",
    "\n",
    "Hydrogen.dump()"
   ]
  },
  {
   "cell_type": "markdown",
   "id": "72e7711a",
   "metadata": {},
   "source": [
    "## 7. Call print(hydrogen). In the definition of Element, change the name of method dump to __str__, create a new hydrogen object, and call print(hydrogen) again.\n",
    "##### Answer."
   ]
  },
  {
   "cell_type": "code",
   "execution_count": 25,
   "id": "4f988599",
   "metadata": {},
   "outputs": [
    {
     "name": "stdout",
     "output_type": "stream",
     "text": [
      "<__main__.Element object at 0x00000226E33C68B0>\n"
     ]
    }
   ],
   "source": [
    "print(Hydrogen)"
   ]
  },
  {
   "cell_type": "code",
   "execution_count": 27,
   "id": "bba4dcb4",
   "metadata": {},
   "outputs": [
    {
     "name": "stdout",
     "output_type": "stream",
     "text": [
      "name = Hydrogen, symbol = H, number = 1\n"
     ]
    }
   ],
   "source": [
    "class Element :\n",
    "    def __init__(self, name, symbol, number):\n",
    "        self.name = name\n",
    "        self.symbol = symbol\n",
    "        self.number = number\n",
    "    def __str__(self):\n",
    "        return ('name = %s, symbol = %s, number = %s' %(self.name, self.symbol, self.number))\n",
    "        \n",
    "Hydrogen = Element('Hydrogen','H',1)\n",
    "\n",
    "print(Hydrogen)"
   ]
  },
  {
   "cell_type": "markdown",
   "id": "4ac65317",
   "metadata": {},
   "source": [
    "## 8. Modify Element to make the attributes name, symbol, and number private. Define a getter property for each to return its value.\n",
    "##### Answer."
   ]
  },
  {
   "cell_type": "code",
   "execution_count": 34,
   "id": "52f39df2",
   "metadata": {},
   "outputs": [],
   "source": [
    "class Element:\n",
    "        def __init__(self, name, symbol, number):\n",
    "            self.__name = name\n",
    "            self.__symbol = symbol\n",
    "            self.__number = number\n",
    "            \n",
    "        @property\n",
    "        def name(self):\n",
    "            return self.__name\n",
    "        \n",
    "        @property\n",
    "        def symbol(self):\n",
    "            return self.__symbol\n",
    "        \n",
    "        @property\n",
    "        def number(self):\n",
    "            return self.__number"
   ]
  },
  {
   "cell_type": "code",
   "execution_count": 35,
   "id": "f18942e9",
   "metadata": {},
   "outputs": [
    {
     "name": "stdout",
     "output_type": "stream",
     "text": [
      "Hydrogen H 1\n"
     ]
    }
   ],
   "source": [
    "hydrogen = Element('Hydrogen', 'H', 1)\n",
    "\n",
    "print(hydrogen.name, hydrogen.symbol, hydrogen.number)"
   ]
  },
  {
   "cell_type": "markdown",
   "id": "0991a1ea",
   "metadata": {},
   "source": [
    "## 9. Define three classes: Bear, Rabbit, and Octothorpe. For each, define only one method: eats(). This should return 'berries' (Bear), 'clover' (Rabbit), or 'campers' (Octothorpe). Create one object from each and print what it eats.\n",
    "##### Answer."
   ]
  },
  {
   "cell_type": "code",
   "execution_count": 36,
   "id": "1b5069ab",
   "metadata": {},
   "outputs": [],
   "source": [
    "class Bear:\n",
    "    def eats():\n",
    "        return 'berries'\n",
    "class Rabbit:\n",
    "    def eats():\n",
    "        return 'clover'\n",
    "class Octothrope:\n",
    "    def eats():\n",
    "        return 'campers'"
   ]
  },
  {
   "cell_type": "code",
   "execution_count": 42,
   "id": "4cec1f05",
   "metadata": {},
   "outputs": [
    {
     "data": {
      "text/plain": [
       "'berries'"
      ]
     },
     "execution_count": 42,
     "metadata": {},
     "output_type": "execute_result"
    }
   ],
   "source": [
    "obj1 = Bear()\n",
    "\n",
    "Bear.eats()"
   ]
  },
  {
   "cell_type": "code",
   "execution_count": 43,
   "id": "1512f0d3",
   "metadata": {},
   "outputs": [
    {
     "data": {
      "text/plain": [
       "'clover'"
      ]
     },
     "execution_count": 43,
     "metadata": {},
     "output_type": "execute_result"
    }
   ],
   "source": [
    "obj2 = Rabbit()\n",
    "\n",
    "Rabbit.eats()"
   ]
  },
  {
   "cell_type": "code",
   "execution_count": 44,
   "id": "9e059321",
   "metadata": {},
   "outputs": [
    {
     "data": {
      "text/plain": [
       "'campers'"
      ]
     },
     "execution_count": 44,
     "metadata": {},
     "output_type": "execute_result"
    }
   ],
   "source": [
    "obj3 = Octothrope()\n",
    "\n",
    "Octothrope.eats()"
   ]
  },
  {
   "cell_type": "markdown",
   "id": "a0e1208a",
   "metadata": {},
   "source": [
    "## 10. Define these classes: Laser, Claw, and SmartPhone. Each has only one method: does(). This returns 'disintegrate' (Laser), 'crush' (Claw), or 'ring' (SmartPhone). Then, define the class Robot that has one instance (object) of each of these. Define a does() method for the Robot that prints what its component objects do.\n",
    "##### Answer."
   ]
  },
  {
   "cell_type": "code",
   "execution_count": 51,
   "id": "f09dff06",
   "metadata": {},
   "outputs": [
    {
     "name": "stdout",
     "output_type": "stream",
     "text": [
      "Laser: disintegrate\n",
      "Claw: crush\n",
      "SmartPhone: ring\n"
     ]
    }
   ],
   "source": [
    "class Laser:\n",
    "    def does(self):\n",
    "        return 'disintegrate'\n",
    "\n",
    "class Claw:\n",
    "    def does(self):\n",
    "        return 'crush'\n",
    "\n",
    "class SmartPhone:\n",
    "    def does(self):\n",
    "        return 'ring'\n",
    "    \n",
    "class Robot:\n",
    "    def __init__(self):\n",
    "        self.laser = Laser()\n",
    "        self.claw = Claw()\n",
    "        self.smartPhone = SmartPhone()\n",
    "    \n",
    "    def does(self):\n",
    "        print(f\"Laser: {self.laser.does()}\")\n",
    "        print(f\"Claw: {self.claw.does()}\")\n",
    "        print(f\"SmartPhone: {self.smartPhone.does()}\")\n",
    "    \n",
    "robo = Robot()\n",
    "robo.does()"
   ]
  }
 ],
 "metadata": {
  "kernelspec": {
   "display_name": "Python 3 (ipykernel)",
   "language": "python",
   "name": "python3"
  },
  "language_info": {
   "codemirror_mode": {
    "name": "ipython",
    "version": 3
   },
   "file_extension": ".py",
   "mimetype": "text/x-python",
   "name": "python",
   "nbconvert_exporter": "python",
   "pygments_lexer": "ipython3",
   "version": "3.9.7"
  }
 },
 "nbformat": 4,
 "nbformat_minor": 5
}
