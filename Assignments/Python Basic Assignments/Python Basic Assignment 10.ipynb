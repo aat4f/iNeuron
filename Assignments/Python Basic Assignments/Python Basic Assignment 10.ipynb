{
 "cells": [
  {
   "cell_type": "markdown",
   "id": "d00deed8",
   "metadata": {},
   "source": [
    "## Python Basic Assignment 10"
   ]
  },
  {
   "cell_type": "markdown",
   "id": "6df950ec",
   "metadata": {},
   "source": [
    "## 1. How do you distinguish between shutil.copy() and shutil.copytree()?\n",
    "##### Answer.\n",
    "While shutil.copy() will copy a single file, shutil.copytree() will copy an entire folder and every folder and file contained in it."
   ]
  },
  {
   "cell_type": "markdown",
   "id": "a9778e15",
   "metadata": {},
   "source": [
    "## 2. What function is used to rename files?\n",
    "##### Answer.\n",
    "os.rename()"
   ]
  },
  {
   "cell_type": "markdown",
   "id": "24312107",
   "metadata": {},
   "source": [
    "## 3. What is the difference between the delete functions in the send2trash and shutil modules?\n",
    "##### Answer.\n",
    "The send2trash functions will move a file or folder to the recycle bin, while shutil functions will permanently delete files and folders."
   ]
  },
  {
   "cell_type": "markdown",
   "id": "3046b190",
   "metadata": {},
   "source": [
    "## 4.ZipFile objects have a close() method just like File objects’ close() method. What ZipFile method is equivalent to File objects’ open() method?\n",
    "##### Answer.\n",
    "The zipfile.ZipFile() function is equivalent to the open() function."
   ]
  },
  {
   "cell_type": "markdown",
   "id": "f613b08b",
   "metadata": {},
   "source": [
    "## 5. Create a programme that searches a folder tree for files with a certain file extension (such as .pdf or .jpg). Copy these files from whatever location they are in to a new folder.\n",
    "##### Answer."
   ]
  }
 ],
 "metadata": {
  "kernelspec": {
   "display_name": "Python 3 (ipykernel)",
   "language": "python",
   "name": "python3"
  },
  "language_info": {
   "codemirror_mode": {
    "name": "ipython",
    "version": 3
   },
   "file_extension": ".py",
   "mimetype": "text/x-python",
   "name": "python",
   "nbconvert_exporter": "python",
   "pygments_lexer": "ipython3",
   "version": "3.9.7"
  }
 },
 "nbformat": 4,
 "nbformat_minor": 5
}
