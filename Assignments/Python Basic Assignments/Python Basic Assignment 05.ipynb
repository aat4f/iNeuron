{
 "cells": [
  {
   "cell_type": "markdown",
   "id": "d67d880e",
   "metadata": {},
   "source": [
    "## Python Basic Assignment 05"
   ]
  },
  {
   "cell_type": "markdown",
   "id": "b5f66583",
   "metadata": {},
   "source": [
    "## 1. What does an empty dictionary's code look like?\n",
    "##### Answer."
   ]
  },
  {
   "cell_type": "code",
   "execution_count": 1,
   "id": "3480455a",
   "metadata": {},
   "outputs": [
    {
     "data": {
      "text/plain": [
       "{}"
      ]
     },
     "execution_count": 1,
     "metadata": {},
     "output_type": "execute_result"
    }
   ],
   "source": [
    "d = {}\n",
    "\n",
    "d"
   ]
  },
  {
   "cell_type": "code",
   "execution_count": 2,
   "id": "a80dbbbe",
   "metadata": {},
   "outputs": [
    {
     "data": {
      "text/plain": [
       "dict"
      ]
     },
     "execution_count": 2,
     "metadata": {},
     "output_type": "execute_result"
    }
   ],
   "source": [
    "type(d)"
   ]
  },
  {
   "cell_type": "markdown",
   "id": "b68f2899",
   "metadata": {},
   "source": [
    "## 2. What is the value of a dictionary value with the key 'foo' and the value 42?\n",
    "##### Answer."
   ]
  },
  {
   "cell_type": "code",
   "execution_count": 3,
   "id": "999d4f6e",
   "metadata": {},
   "outputs": [
    {
     "data": {
      "text/plain": [
       "{'foo': 42}"
      ]
     },
     "execution_count": 3,
     "metadata": {},
     "output_type": "execute_result"
    }
   ],
   "source": [
    "d = {'foo':42}\n",
    "\n",
    "d"
   ]
  },
  {
   "cell_type": "code",
   "execution_count": 6,
   "id": "ecd345ca",
   "metadata": {},
   "outputs": [
    {
     "data": {
      "text/plain": [
       "42"
      ]
     },
     "execution_count": 6,
     "metadata": {},
     "output_type": "execute_result"
    }
   ],
   "source": [
    "d['foo']"
   ]
  },
  {
   "cell_type": "markdown",
   "id": "0573cf66",
   "metadata": {},
   "source": [
    "## 3. What is the most significant distinction between a dictionary and a list?\n",
    "##### Answer.\n",
    "| list | dictionary |\n",
    "| --- | --- |\n",
    "| ordered sequence of objects | unordered sets |\n",
    "| accessed via their position | accessed via keys |"
   ]
  },
  {
   "cell_type": "code",
   "execution_count": 7,
   "id": "4f840aad",
   "metadata": {},
   "outputs": [],
   "source": [
    "# syntax of list\n",
    "l = [1,2,3]\n",
    "\n",
    "# syntax of dictionary\n",
    "d = {'a':1,'b':2,'c':3}"
   ]
  },
  {
   "cell_type": "markdown",
   "id": "f6d606b9",
   "metadata": {},
   "source": [
    "## 4. What happens if you try to access spam['foo'] if spam is {'bar': 100}?\n",
    "##### Answer.\n",
    "throws an error"
   ]
  },
  {
   "cell_type": "code",
   "execution_count": 8,
   "id": "79de6fa1",
   "metadata": {},
   "outputs": [
    {
     "ename": "KeyError",
     "evalue": "'foo'",
     "output_type": "error",
     "traceback": [
      "\u001b[1;31m---------------------------------------------------------------------------\u001b[0m",
      "\u001b[1;31mKeyError\u001b[0m                                  Traceback (most recent call last)",
      "\u001b[1;32m~\\AppData\\Local\\Temp/ipykernel_14420/1683314401.py\u001b[0m in \u001b[0;36m<module>\u001b[1;34m\u001b[0m\n\u001b[0;32m      1\u001b[0m \u001b[0mspam\u001b[0m \u001b[1;33m=\u001b[0m \u001b[1;33m{\u001b[0m\u001b[1;34m'bar'\u001b[0m\u001b[1;33m:\u001b[0m\u001b[1;36m100\u001b[0m\u001b[1;33m}\u001b[0m\u001b[1;33m\u001b[0m\u001b[1;33m\u001b[0m\u001b[0m\n\u001b[0;32m      2\u001b[0m \u001b[1;33m\u001b[0m\u001b[0m\n\u001b[1;32m----> 3\u001b[1;33m \u001b[0mspam\u001b[0m\u001b[1;33m[\u001b[0m\u001b[1;34m'foo'\u001b[0m\u001b[1;33m]\u001b[0m\u001b[1;33m\u001b[0m\u001b[1;33m\u001b[0m\u001b[0m\n\u001b[0m",
      "\u001b[1;31mKeyError\u001b[0m: 'foo'"
     ]
    }
   ],
   "source": [
    "spam = {'bar':100}\n",
    "\n",
    "spam['foo']"
   ]
  },
  {
   "cell_type": "markdown",
   "id": "d3e91ce7",
   "metadata": {},
   "source": [
    "## 5. If a dictionary is stored in spam, what is the difference between the expressions 'cat' in spam and 'cat' in spam.keys()?\n",
    "##### Answer.\n",
    "no difference"
   ]
  },
  {
   "cell_type": "code",
   "execution_count": 18,
   "id": "aabd2c81",
   "metadata": {},
   "outputs": [],
   "source": [
    "spam = {'cat':'american bobtail'}"
   ]
  },
  {
   "cell_type": "code",
   "execution_count": 19,
   "id": "b630eedb",
   "metadata": {},
   "outputs": [
    {
     "data": {
      "text/plain": [
       "True"
      ]
     },
     "execution_count": 19,
     "metadata": {},
     "output_type": "execute_result"
    }
   ],
   "source": [
    "# checks whether if there is a key 'cat' in spam\n",
    "\n",
    "'cat' in spam"
   ]
  },
  {
   "cell_type": "code",
   "execution_count": 20,
   "id": "01398b80",
   "metadata": {},
   "outputs": [
    {
     "data": {
      "text/plain": [
       "True"
      ]
     },
     "execution_count": 20,
     "metadata": {},
     "output_type": "execute_result"
    }
   ],
   "source": [
    "# checks whether if there is a key 'cat' in spam\n",
    "\n",
    "'cat' in spam.keys()"
   ]
  },
  {
   "cell_type": "markdown",
   "id": "35a98ecd",
   "metadata": {},
   "source": [
    "## 6. If a dictionary is stored in spam, what is the difference between the expressions 'cat' in spam and 'cat' in spam.values()?\n",
    "##### Answer."
   ]
  },
  {
   "cell_type": "code",
   "execution_count": 21,
   "id": "6c20c732",
   "metadata": {},
   "outputs": [],
   "source": [
    "spam = {'cat':'american bobtail'}"
   ]
  },
  {
   "cell_type": "code",
   "execution_count": 22,
   "id": "9d0f0770",
   "metadata": {},
   "outputs": [
    {
     "data": {
      "text/plain": [
       "True"
      ]
     },
     "execution_count": 22,
     "metadata": {},
     "output_type": "execute_result"
    }
   ],
   "source": [
    "# checks whether if there is a key 'cat' in spam\n",
    "\n",
    "'cat' in spam"
   ]
  },
  {
   "cell_type": "code",
   "execution_count": 23,
   "id": "94074fc9",
   "metadata": {},
   "outputs": [
    {
     "data": {
      "text/plain": [
       "False"
      ]
     },
     "execution_count": 23,
     "metadata": {},
     "output_type": "execute_result"
    }
   ],
   "source": [
    "# checks whether if there is a value 'cat' in spam\n",
    "\n",
    "'cat' in spam.values()"
   ]
  },
  {
   "cell_type": "code",
   "execution_count": 25,
   "id": "2e075c45",
   "metadata": {},
   "outputs": [
    {
     "data": {
      "text/plain": [
       "True"
      ]
     },
     "execution_count": 25,
     "metadata": {},
     "output_type": "execute_result"
    }
   ],
   "source": [
    "'american bobtail' in spam.values()"
   ]
  },
  {
   "cell_type": "markdown",
   "id": "3d782692",
   "metadata": {},
   "source": [
    "## 7. What is a shortcut for the following code?"
   ]
  },
  {
   "cell_type": "code",
   "execution_count": null,
   "id": "e0ce79de",
   "metadata": {},
   "outputs": [],
   "source": [
    "if 'color' not in spam:\n",
    "    spam['color'] = 'black'"
   ]
  },
  {
   "cell_type": "markdown",
   "id": "9629c410",
   "metadata": {},
   "source": [
    "##### Answer."
   ]
  },
  {
   "cell_type": "code",
   "execution_count": 38,
   "id": "d557dfe8",
   "metadata": {},
   "outputs": [
    {
     "data": {
      "text/plain": [
       "{'name': 'Pooka', 'age': 5, 'color': 'black'}"
      ]
     },
     "execution_count": 38,
     "metadata": {},
     "output_type": "execute_result"
    }
   ],
   "source": [
    "# long method\n",
    "\n",
    "spam = {'name': 'Pooka', 'age': 5}\n",
    "\n",
    "if 'color' not in spam:\n",
    "    spam['color'] = 'black'\n",
    "\n",
    "spam"
   ]
  },
  {
   "cell_type": "code",
   "execution_count": 39,
   "id": "d19ca8d4",
   "metadata": {},
   "outputs": [
    {
     "data": {
      "text/plain": [
       "'black'"
      ]
     },
     "execution_count": 39,
     "metadata": {},
     "output_type": "execute_result"
    }
   ],
   "source": [
    "# short method\n",
    "\n",
    "spam = {'name': 'Pooka', 'age': 5}\n",
    "\n",
    "spam.setdefault('color', 'black')"
   ]
  },
  {
   "cell_type": "code",
   "execution_count": 40,
   "id": "85d46682",
   "metadata": {},
   "outputs": [
    {
     "data": {
      "text/plain": [
       "{'name': 'Pooka', 'age': 5, 'color': 'black'}"
      ]
     },
     "execution_count": 40,
     "metadata": {},
     "output_type": "execute_result"
    }
   ],
   "source": [
    "spam"
   ]
  },
  {
   "cell_type": "markdown",
   "id": "abec099d",
   "metadata": {},
   "source": [
    "## 8. How do you \"pretty print\" dictionary values using which module and function?\n",
    "##### Answer."
   ]
  },
  {
   "cell_type": "code",
   "execution_count": 42,
   "id": "a5b12c18",
   "metadata": {},
   "outputs": [
    {
     "data": {
      "text/plain": [
       "{'name': 'Pooka', 'age': 5, 'color': 'black'}"
      ]
     },
     "execution_count": 42,
     "metadata": {},
     "output_type": "execute_result"
    }
   ],
   "source": [
    "spam"
   ]
  },
  {
   "cell_type": "code",
   "execution_count": 43,
   "id": "957a7532",
   "metadata": {},
   "outputs": [
    {
     "name": "stdout",
     "output_type": "stream",
     "text": [
      "{'age': 5, 'color': 'black', 'name': 'Pooka'}\n"
     ]
    }
   ],
   "source": [
    "import pprint\n",
    "pprint.pprint(spam)"
   ]
  }
 ],
 "metadata": {
  "kernelspec": {
   "display_name": "Python 3 (ipykernel)",
   "language": "python",
   "name": "python3"
  },
  "language_info": {
   "codemirror_mode": {
    "name": "ipython",
    "version": 3
   },
   "file_extension": ".py",
   "mimetype": "text/x-python",
   "name": "python",
   "nbconvert_exporter": "python",
   "pygments_lexer": "ipython3",
   "version": "3.9.7"
  }
 },
 "nbformat": 4,
 "nbformat_minor": 5
}
