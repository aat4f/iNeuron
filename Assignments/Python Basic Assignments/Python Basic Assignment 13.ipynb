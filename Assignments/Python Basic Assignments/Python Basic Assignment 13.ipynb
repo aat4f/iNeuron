{
 "cells": [
  {
   "cell_type": "markdown",
   "id": "cfaed005",
   "metadata": {},
   "source": [
    "## Python Basic Assignment 13"
   ]
  },
  {
   "cell_type": "markdown",
   "id": "d46f19bc",
   "metadata": {},
   "source": [
    "## 1. How do you distinguish between shutil.copy() and shutil.copytree()?\n",
    "##### Answer.\n",
    "While shutil.copy() will copy a single file, shutil.copytree() will copy an entire folder and every folder and file contained in it."
   ]
  },
  {
   "cell_type": "markdown",
   "id": "829680d0",
   "metadata": {},
   "source": [
    "## 2.What do you pass to csv.reader() and csv.writer() to create reader and writer objects?\n",
    "##### Answer.\n",
    "file object"
   ]
  },
  {
   "cell_type": "markdown",
   "id": "886a3856",
   "metadata": {},
   "source": [
    "## 3.What modes do File objects for reader and writer objects need to be opened in?\n",
    "##### Answer.\n",
    "'r'(read mode) for reader objects and 'w'(write mode) for writer objects"
   ]
  },
  {
   "cell_type": "markdown",
   "id": "e4c96340",
   "metadata": {},
   "source": [
    "## 4.What method takes a list argument and writes it to a CSV file?\n",
    "##### Answer.\n",
    "writerow() method of csv.writer()"
   ]
  },
  {
   "cell_type": "markdown",
   "id": "ce8fa027",
   "metadata": {},
   "source": [
    "## 5.What do the keyword arguments delimiter and line terminator do?\n",
    "##### Answer.\n",
    "delimiter sets the character between cells on a row. line terminator sets the character that comes at the end of a row."
   ]
  },
  {
   "cell_type": "markdown",
   "id": "01ce6fc8",
   "metadata": {},
   "source": [
    "## 6.What function takes a string of JSON data and returns a Python data structure?\n",
    "##### Answer.\n",
    "json.loads()"
   ]
  },
  {
   "cell_type": "markdown",
   "id": "fe5f568a",
   "metadata": {},
   "source": [
    "## 7.What function takes a Python data structure and returns a string of JSON data?\n",
    "##### Answer.\n",
    "json.dumps()"
   ]
  }
 ],
 "metadata": {
  "kernelspec": {
   "display_name": "Python 3 (ipykernel)",
   "language": "python",
   "name": "python3"
  },
  "language_info": {
   "codemirror_mode": {
    "name": "ipython",
    "version": 3
   },
   "file_extension": ".py",
   "mimetype": "text/x-python",
   "name": "python",
   "nbconvert_exporter": "python",
   "pygments_lexer": "ipython3",
   "version": "3.9.7"
  }
 },
 "nbformat": 4,
 "nbformat_minor": 5
}
