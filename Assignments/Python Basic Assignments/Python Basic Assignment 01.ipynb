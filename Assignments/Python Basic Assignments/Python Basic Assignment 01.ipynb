{
 "cells": [
  {
   "cell_type": "markdown",
   "id": "46c20cf2",
   "metadata": {},
   "source": [
    "## Python Basic Assignment 01"
   ]
  },
  {
   "cell_type": "markdown",
   "id": "97b2f30b",
   "metadata": {},
   "source": [
    "## 1. In the below elements which of them are values or an expression? eg:- values can be integer or string and expressions will be mathematical operators.\n",
    "- * \n",
    "- 'hello'\n",
    "- -87.8\n",
    "- - \n",
    "- / \n",
    "- +\t\n",
    "- 6\n",
    "\n",
    "##### Answer.<br>\n",
    "Values: -87.8, 6, 'hello'<br>\n",
    "Expression: -, /, +<br>"
   ]
  },
  {
   "cell_type": "markdown",
   "id": "c4619637",
   "metadata": {},
   "source": [
    "## 2. What is the difference between string and variable?\n",
    "##### Answer.<br>\n",
    "A variable is a symbol used to store data. A string is a type of data stored in a variable."
   ]
  },
  {
   "cell_type": "markdown",
   "id": "b9be0faa",
   "metadata": {},
   "source": [
    "## 3. Describe three different data types.\n",
    "##### Answer.<br>\n",
    "Numeric: Data type which has numeric value.<br>\n",
    "Dictionary: Data type which has unordered collection of data values stored in key:value pair.<br>\n",
    "Boolean: Data type with 2 built in values- True and False.<br>"
   ]
  },
  {
   "cell_type": "markdown",
   "id": "022ba4da",
   "metadata": {},
   "source": [
    "## 4. What is an expression made up of? What do all expressions do?\n",
    "##### Answer.<br>\n",
    "An expression is a combination of operators and operands that is interpreted to produce some other value. In any programming language, an expression is evaluated as per the precedence of its operators. So that if there is more than one operator in an expression, their precedence decides which operation will be performed first."
   ]
  },
  {
   "cell_type": "markdown",
   "id": "1583c8f8",
   "metadata": {},
   "source": [
    "## 5. What is the difference between an expression and a statement?\n",
    "##### Answer.<br>\n",
    "\n",
    "| Expression | Statement |\n",
    "| --- | --- |\n",
    "| An expression evaluates to a value | A statement executes something |\n",
    "| The evaluation of a statement does not changes state | The execution of a statement changes state|\n",
    "| Evaluation of an expression always Produces or returns a result value. | Execution of a statement may or may not produces or displays a result value, it only does whatever the statement says. |\n",
    "| Every expression can’t be a statement. | Every statement can be an expression. |\n",
    "| eg. >>> a+12<br>>>> 33| eg. >>> x=7<br>>>> print x<br>Output: 7|"
   ]
  },
  {
   "cell_type": "markdown",
   "id": "bc3efcc5",
   "metadata": {},
   "source": [
    "## 6. After running the following code, what does the variable bacon contain?"
   ]
  },
  {
   "cell_type": "code",
   "execution_count": 6,
   "id": "7e8e9adf",
   "metadata": {},
   "outputs": [
    {
     "data": {
      "text/plain": [
       "23"
      ]
     },
     "execution_count": 6,
     "metadata": {},
     "output_type": "execute_result"
    }
   ],
   "source": [
    "bacon = 22\n",
    "bacon + 1"
   ]
  },
  {
   "cell_type": "markdown",
   "id": "205b6051",
   "metadata": {},
   "source": [
    "## 7. What should the values of the following two terms be?"
   ]
  },
  {
   "cell_type": "code",
   "execution_count": 4,
   "id": "ce74a64a",
   "metadata": {},
   "outputs": [
    {
     "data": {
      "text/plain": [
       "'spamspamspam'"
      ]
     },
     "execution_count": 4,
     "metadata": {},
     "output_type": "execute_result"
    }
   ],
   "source": [
    "'spam' + 'spamspam'"
   ]
  },
  {
   "cell_type": "code",
   "execution_count": 5,
   "id": "df42ef4c",
   "metadata": {},
   "outputs": [
    {
     "data": {
      "text/plain": [
       "'spamspamspam'"
      ]
     },
     "execution_count": 5,
     "metadata": {},
     "output_type": "execute_result"
    }
   ],
   "source": [
    "'spam' * 3"
   ]
  },
  {
   "cell_type": "markdown",
   "id": "0ac1076c",
   "metadata": {},
   "source": [
    "## 8. Why is eggs a valid variable name while 100 is invalid?\n",
    "##### Answer.<br>\n",
    "A numeric value cannot be used as a variable name."
   ]
  },
  {
   "cell_type": "markdown",
   "id": "2ef497ed",
   "metadata": {},
   "source": [
    "## 9. What three functions can be used to get the integer, floating-point number, or string version of a value?\n",
    "##### Answer.<br>\n",
    "int(), float(), str()"
   ]
  },
  {
   "cell_type": "markdown",
   "id": "7ab1d816",
   "metadata": {},
   "source": [
    "## 10. Why does this expression cause an error? How can you fix it?"
   ]
  },
  {
   "cell_type": "code",
   "execution_count": 8,
   "id": "7b9acb9d",
   "metadata": {},
   "outputs": [
    {
     "ename": "TypeError",
     "evalue": "can only concatenate str (not \"int\") to str",
     "output_type": "error",
     "traceback": [
      "\u001b[1;31m---------------------------------------------------------------------------\u001b[0m",
      "\u001b[1;31mTypeError\u001b[0m                                 Traceback (most recent call last)",
      "\u001b[1;32m~\\AppData\\Local\\Temp/ipykernel_7572/1774935878.py\u001b[0m in \u001b[0;36m<module>\u001b[1;34m\u001b[0m\n\u001b[1;32m----> 1\u001b[1;33m \u001b[1;34m'I have eaten '\u001b[0m \u001b[1;33m+\u001b[0m \u001b[1;36m99\u001b[0m \u001b[1;33m+\u001b[0m \u001b[1;34m' burritos.'\u001b[0m\u001b[1;33m\u001b[0m\u001b[1;33m\u001b[0m\u001b[0m\n\u001b[0m",
      "\u001b[1;31mTypeError\u001b[0m: can only concatenate str (not \"int\") to str"
     ]
    }
   ],
   "source": [
    "'I have eaten ' + 99 + ' burritos.'"
   ]
  },
  {
   "cell_type": "code",
   "execution_count": 9,
   "id": "848b8f6b",
   "metadata": {},
   "outputs": [
    {
     "data": {
      "text/plain": [
       "'I have eaten 99 burritos.'"
      ]
     },
     "execution_count": 9,
     "metadata": {},
     "output_type": "execute_result"
    }
   ],
   "source": [
    "# fix\n",
    "'I have eaten ' + '99' + ' burritos.'"
   ]
  }
 ],
 "metadata": {
  "kernelspec": {
   "display_name": "Python 3 (ipykernel)",
   "language": "python",
   "name": "python3"
  },
  "language_info": {
   "codemirror_mode": {
    "name": "ipython",
    "version": 3
   },
   "file_extension": ".py",
   "mimetype": "text/x-python",
   "name": "python",
   "nbconvert_exporter": "python",
   "pygments_lexer": "ipython3",
   "version": "3.9.7"
  }
 },
 "nbformat": 4,
 "nbformat_minor": 5
}
