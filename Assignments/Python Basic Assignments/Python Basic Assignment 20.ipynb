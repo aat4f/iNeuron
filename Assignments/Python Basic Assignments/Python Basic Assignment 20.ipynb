{
 "cells": [
  {
   "cell_type": "markdown",
   "id": "3d61c6fc",
   "metadata": {},
   "source": [
    "## Python Basic Assignment 20"
   ]
  },
  {
   "cell_type": "markdown",
   "id": "5a3ee788",
   "metadata": {},
   "source": [
    "## 1. Set the variable test1 to the string 'This is a test of the emergency text system', and save test1 to a file named test.txt.\n",
    "##### Answer."
   ]
  },
  {
   "cell_type": "code",
   "execution_count": 1,
   "id": "80cef5c5",
   "metadata": {},
   "outputs": [],
   "source": [
    "import os"
   ]
  },
  {
   "cell_type": "code",
   "execution_count": null,
   "id": "3984bbae",
   "metadata": {},
   "outputs": [],
   "source": [
    "test1 = 'This is a test of the emergency text system'"
   ]
  },
  {
   "cell_type": "code",
   "execution_count": null,
   "id": "1e869d51",
   "metadata": {},
   "outputs": [],
   "source": [
    "open(\"test.txt\",\"w\")"
   ]
  },
  {
   "cell_type": "code",
   "execution_count": null,
   "id": "62225943",
   "metadata": {},
   "outputs": [],
   "source": []
  }
 ],
 "metadata": {
  "kernelspec": {
   "display_name": "Python 3 (ipykernel)",
   "language": "python",
   "name": "python3"
  },
  "language_info": {
   "codemirror_mode": {
    "name": "ipython",
    "version": 3
   },
   "file_extension": ".py",
   "mimetype": "text/x-python",
   "name": "python",
   "nbconvert_exporter": "python",
   "pygments_lexer": "ipython3",
   "version": "3.9.7"
  }
 },
 "nbformat": 4,
 "nbformat_minor": 5
}
