{
 "cells": [
  {
   "cell_type": "markdown",
   "id": "19d91e9a",
   "metadata": {},
   "source": [
    "## Python Basic Assignment 25"
   ]
  },
  {
   "cell_type": "markdown",
   "id": "819f49e6",
   "metadata": {},
   "source": [
    "## 1. What is the difference between enclosing a list comprehension in square brackets and parentheses?\n",
    "##### Answer."
   ]
  },
  {
   "cell_type": "markdown",
   "id": "21e62d36",
   "metadata": {},
   "source": [
    "List comprehension in square brackets produces a list object as output<br>\n",
    "List comprehension in oval parenthesis () produces a generator object<br>\n",
    "List comprehension in flower parenthesis {} produces a set object"
   ]
  },
  {
   "cell_type": "code",
   "execution_count": 2,
   "id": "cf17dc20",
   "metadata": {},
   "outputs": [
    {
     "name": "stdout",
     "output_type": "stream",
     "text": [
      "<class 'list'>\n"
     ]
    }
   ],
   "source": [
    "temp = [i for i in range(10)]\n",
    "\n",
    "print(type(temp))"
   ]
  },
  {
   "cell_type": "code",
   "execution_count": 3,
   "id": "6728acab",
   "metadata": {},
   "outputs": [
    {
     "name": "stdout",
     "output_type": "stream",
     "text": [
      "<class 'generator'>\n"
     ]
    }
   ],
   "source": [
    "temp2 = (i for i in range(10))\n",
    "\n",
    "print(type(temp2))"
   ]
  },
  {
   "cell_type": "code",
   "execution_count": 4,
   "id": "71168089",
   "metadata": {},
   "outputs": [
    {
     "name": "stdout",
     "output_type": "stream",
     "text": [
      "<class 'set'>\n"
     ]
    }
   ],
   "source": [
    "temp3 = {i for i in range(10)}\n",
    "\n",
    "print(type(temp3))"
   ]
  },
  {
   "cell_type": "markdown",
   "id": "65d47603",
   "metadata": {},
   "source": [
    "## 2. What is the relationship between generators and iterators?\n",
    "##### Answer."
   ]
  },
  {
   "cell_type": "markdown",
   "id": "07643a7b",
   "metadata": {},
   "source": [
    "An iterator is an object which contains a countable number of values and it is used to iterate over iterable objects like list, tuples etc.\n",
    "\n",
    "Using an iterator- iter() keyword is used to create an iterator containing an iterable object. next() keyword is used to call the next element in the iterable object.\n",
    "\n",
    "A Generator is another way of creating iterators in a simple way where it uses the keyword “yield” instead of returning it in a defined function. Generators are implemented using a function containing yield return statement.\n",
    "\n",
    "Here, the yield function returns the data without affecting or exiting the function. It will return a sequence of data in an iterable format where we need to iterate over the sequence to use the data as they won’t store the entire sequence in the memory. By using next() function we can iterate the output of generator function."
   ]
  },
  {
   "cell_type": "markdown",
   "id": "0abe46cb",
   "metadata": {},
   "source": [
    "## 3. What are the signs that a function is a generator function?\n",
    "##### Answer."
   ]
  },
  {
   "cell_type": "markdown",
   "id": "87a9dc2f",
   "metadata": {},
   "source": [
    "If a function contains at least one yield statement (it may contain other yield or return statements), it becomes a generator function. Both yield and return will return some value from a function."
   ]
  },
  {
   "cell_type": "markdown",
   "id": "263161ec",
   "metadata": {},
   "source": [
    "## 4. What is the purpose of a yield statement?\n",
    "##### Answer."
   ]
  },
  {
   "cell_type": "markdown",
   "id": "71cce950",
   "metadata": {},
   "source": [
    "A yield statement looks much like a return statement, except that instead of stopping execution of the function and returning, yield instead provides a value to the code looping over the generator and pauses execution of the generator function."
   ]
  },
  {
   "cell_type": "markdown",
   "id": "e27f8f42",
   "metadata": {},
   "source": [
    "## 5. What is the relationship between map calls and list comprehensions? Make a comparison and contrast between the two.\n",
    "##### Answer."
   ]
  },
  {
   "cell_type": "markdown",
   "id": "689a6ce4",
   "metadata": {},
   "source": [
    "Map function: Suppose we have a function and we want to compute this function for different values in a single line of code. This is where map() function plays its role. map() function returns a map object(which is an iterator) of the results after applying the given function to each item of a given iterable (list, tuple etc.)\n",
    "\n",
    "If we already have a function defined, it is often good to use map.<br>\n",
    "For example, map(sum, myLists) is more neat than [sum(x) for x in myLists]. You gain the elegance of not having to make up a dummy variable (e.g. sum(x) for x... or sum() for ... or sum(readableName) for readableName...) which you have to type twice, just to iterate.\n",
    "\n",
    "List Comprehension: List Comprehension is a substitute for the lambda function, map(), filter() and reduce()\n",
    "\n",
    "Comparision :\n",
    "\n",
    "- List comprehension is more concise and easier to read as compared to map.<br>\n",
    "- List comprehension allows filtering. In map, we have no such facility. For example, to print all even numbers in range of 100, we can write<br>[n for n in range(100) if n%2 == 0]. There is no alternate for it in map.\n",
    "- List comprehension are used when a list of results is required, where as map only returns a map object and does not return any list.\n",
    "- List comprehension is faster than map when we need to evaluate expressions that are too long or complicated to express.\n",
    "- Map is faster in case of calling an already defined function (as no lambda is required)."
   ]
  }
 ],
 "metadata": {
  "kernelspec": {
   "display_name": "Python 3 (ipykernel)",
   "language": "python",
   "name": "python3"
  },
  "language_info": {
   "codemirror_mode": {
    "name": "ipython",
    "version": 3
   },
   "file_extension": ".py",
   "mimetype": "text/x-python",
   "name": "python",
   "nbconvert_exporter": "python",
   "pygments_lexer": "ipython3",
   "version": "3.9.7"
  }
 },
 "nbformat": 4,
 "nbformat_minor": 5
}
