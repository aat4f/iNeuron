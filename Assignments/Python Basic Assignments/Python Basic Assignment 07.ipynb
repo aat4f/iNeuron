{
 "cells": [
  {
   "cell_type": "markdown",
   "id": "79a14ec0",
   "metadata": {},
   "source": [
    "## Python Basic Assignment 07"
   ]
  },
  {
   "cell_type": "markdown",
   "id": "021c1373",
   "metadata": {},
   "source": [
    "## 1. What is the name of the feature responsible for generating Regex objects?\n",
    "##### Answer.\n",
    "re.compile()"
   ]
  },
  {
   "cell_type": "markdown",
   "id": "e87410ab",
   "metadata": {},
   "source": [
    "## 2. Why do raw strings often appear in Regex objects?\n",
    "##### Answer.\n",
    "Raw strings are used so that backslashes do not have to be escaped."
   ]
  },
  {
   "cell_type": "markdown",
   "id": "2a8c7800",
   "metadata": {},
   "source": [
    "## 3. What is the return value of the search() method?\n",
    "##### Answer.\n",
    "The search() method returns Match objects."
   ]
  },
  {
   "cell_type": "markdown",
   "id": "3331fd5c",
   "metadata": {},
   "source": [
    "## 4. From a Match item, how do you get the actual strings that match the pattern?\n",
    "##### Answer.\n",
    "The group() method returns strings of the matched text."
   ]
  },
  {
   "cell_type": "markdown",
   "id": "5b877f09",
   "metadata": {},
   "source": [
    "## 5. In the regex which created from the r'(\\d\\d\\d)-(\\d\\d\\d-\\d\\d\\d\\d)', what does group zero cover? Group 2? Group 1?\n",
    "##### Answer.\n",
    "Group 0 is the entire match, group 1 covers the first set of parentheses, and group 2 covers the second set of parentheses."
   ]
  },
  {
   "cell_type": "markdown",
   "id": "1273120f",
   "metadata": {},
   "source": [
    "## 6. In standard expression syntax, parentheses and intervals have distinct meanings. How can you tell a regex that you want it to fit real parentheses and periods?\n",
    "##### Answer.\n",
    "Periods and parentheses can be escaped with a backslash"
   ]
  },
  {
   "cell_type": "code",
   "execution_count": 1,
   "id": "3842acc4",
   "metadata": {},
   "outputs": [],
   "source": [
    " # \\., \\(, and \\)"
   ]
  },
  {
   "cell_type": "markdown",
   "id": "237f9c31",
   "metadata": {},
   "source": [
    "## 7. The findall() method returns a string list or a list of string tuples. What causes it to return one of the two options?\n",
    "##### Answer.\n",
    "If the regex has no groups, a list of strings is returned. If the regex has groups, a list of tuples of strings is returned."
   ]
  },
  {
   "cell_type": "markdown",
   "id": "3b0d1ee9",
   "metadata": {},
   "source": [
    "## 8. In standard expressions, what does the | character mean?\n",
    "##### Answer.\n",
    "The | character signifies matching \"either, or\" between two groups."
   ]
  },
  {
   "cell_type": "markdown",
   "id": "0df20c78",
   "metadata": {},
   "source": [
    "## 9. In regular expressions, what does the ? character stand for?\n",
    "##### Answer.\n",
    "The ? character can either mean \"match zero or one of the preceding group\" or be used to signify nongreedy matching."
   ]
  },
  {
   "cell_type": "markdown",
   "id": "e1f1ee61",
   "metadata": {},
   "source": [
    "## 10. In regular expressions, what is the difference between the + and * characters?\n",
    "##### Answer.\n",
    "The + matches one or more. The * matches zero or more."
   ]
  },
  {
   "cell_type": "markdown",
   "id": "6de950ba",
   "metadata": {},
   "source": [
    "## 11. What is the difference between {4} and {4,5} in regular expression?\n",
    "##### Answer.\n",
    "- {4} means preceding character is to be repeated 4 times.\n",
    "- {4,5} means preceding character is repeated minimum 4 times and maximum 5 times."
   ]
  },
  {
   "cell_type": "markdown",
   "id": "0c1ffc27",
   "metadata": {},
   "source": [
    "## 12. What do you mean by the \\d, \\w, and \\s shorthand character classes signify in regular expressions?\n",
    "##### Answer.\n",
    "- \\d returns a match where the string contains digits (numbers from 0-9)\n",
    "- \\w returns a match where the string contains any word characters (characters from a to Z, digits from 0-9, and the underscore _ character)\n",
    "- \\s returns a match where the string contains a white space character"
   ]
  },
  {
   "cell_type": "markdown",
   "id": "23706586",
   "metadata": {},
   "source": [
    "## 13. What do means by \\D, \\W, and \\S shorthand character classes signify in regular expressions?\n",
    "##### Answer.\n",
    "- \\D returns a match where the string DOES NOT contain digits\n",
    "- \\W returns a match where the string DOES NOT contain any word characters\n",
    "- \\S returns a match where the string DOES NOT contain a white space character"
   ]
  },
  {
   "cell_type": "markdown",
   "id": "a0f0a91d",
   "metadata": {},
   "source": [
    "## 14. What is the difference between .*? and .*?\n",
    "##### Answer.\n",
    "- ' . ' accepts as many sequence as available(Greedy approach)\n",
    "- ' .? ' accepts the first matched sequence and then stops(Non-Greedy approach)."
   ]
  },
  {
   "cell_type": "markdown",
   "id": "862dc6f6",
   "metadata": {},
   "source": [
    "## 15. What is the syntax for matching both numbers and lowercase letters with a character class?\n",
    "##### Answer.\n",
    "[a-z0-9]"
   ]
  },
  {
   "cell_type": "markdown",
   "id": "dfdaf170",
   "metadata": {},
   "source": [
    "## 16. What is the procedure for making a normal expression in regex case insensitive?\n",
    "##### Answer.\n",
    "pass re.IGNORECASE to re.compile()"
   ]
  },
  {
   "cell_type": "markdown",
   "id": "f1e59c89",
   "metadata": {},
   "source": [
    "## 17. What does the . character normally match? What does it match if re.DOTALL is passed as 2nd argument in re.compile()?\n",
    "##### Answer.\n",
    "' . ' character normally pass any character except newline character. With the help of DOTALL, ' . ' character can match any character including newline."
   ]
  },
  {
   "cell_type": "markdown",
   "id": "6835d596",
   "metadata": {},
   "source": [
    "## 18. If numReg = re.compile(r'\\d+'), what will numReg.sub('X', '11 drummers, 10 pipers, five rings, 4 hen') return?\n",
    "##### Answer."
   ]
  },
  {
   "cell_type": "code",
   "execution_count": 7,
   "id": "8f596d37",
   "metadata": {},
   "outputs": [
    {
     "data": {
      "text/plain": [
       "'X drummers, X pipers, five rings, X hen'"
      ]
     },
     "execution_count": 7,
     "metadata": {},
     "output_type": "execute_result"
    }
   ],
   "source": [
    "import re\n",
    "numReg = re.compile(r'\\d+')\n",
    "numReg.sub('X', '11 drummers, 10 pipers, five rings, 4 hen')"
   ]
  },
  {
   "cell_type": "markdown",
   "id": "0ea656f8",
   "metadata": {},
   "source": [
    "## 19. What does passing re.VERBOSE as the 2nd argument to re.compile() allow to do?\n",
    "##### Answer.\n",
    "It allows to write regular expressin that look nicer and are more readable by allowing visually separate logical section of the pattern and add comments."
   ]
  }
 ],
 "metadata": {
  "kernelspec": {
   "display_name": "Python 3 (ipykernel)",
   "language": "python",
   "name": "python3"
  },
  "language_info": {
   "codemirror_mode": {
    "name": "ipython",
    "version": 3
   },
   "file_extension": ".py",
   "mimetype": "text/x-python",
   "name": "python",
   "nbconvert_exporter": "python",
   "pygments_lexer": "ipython3",
   "version": "3.9.7"
  }
 },
 "nbformat": 4,
 "nbformat_minor": 5
}
