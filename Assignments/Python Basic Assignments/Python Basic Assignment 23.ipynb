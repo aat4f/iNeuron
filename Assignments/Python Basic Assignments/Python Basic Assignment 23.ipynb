{
 "cells": [
  {
   "cell_type": "markdown",
   "id": "9f17f0a6",
   "metadata": {},
   "source": [
    "## Python Basic Assignment 23"
   ]
  },
  {
   "cell_type": "markdown",
   "id": "1d066a53",
   "metadata": {},
   "source": [
    "## 1. What is the result of the code, and why?\n",
    "##### Answer."
   ]
  },
  {
   "cell_type": "code",
   "execution_count": 2,
   "id": "2499528b",
   "metadata": {},
   "outputs": [],
   "source": [
    "def func(a, b=6, c=8):\n",
    "    print(a, b, c)"
   ]
  },
  {
   "cell_type": "code",
   "execution_count": 3,
   "id": "7559214c",
   "metadata": {},
   "outputs": [
    {
     "name": "stdout",
     "output_type": "stream",
     "text": [
      "1 2 8\n"
     ]
    }
   ],
   "source": [
    "func(1, 2)"
   ]
  },
  {
   "cell_type": "code",
   "execution_count": null,
   "id": "c5814cc9",
   "metadata": {},
   "outputs": [],
   "source": [
    "# in 'func(1,2)', we passed a as 1 and b as 2\n",
    "# but we did not provide a value for c. So c = 8 as it is the default\n",
    "# value for c defined in the function."
   ]
  },
  {
   "cell_type": "markdown",
   "id": "8e36c875",
   "metadata": {},
   "source": [
    "## 2. What is the result of this code, and why?\n",
    "##### Answer."
   ]
  },
  {
   "cell_type": "code",
   "execution_count": 4,
   "id": "a1704341",
   "metadata": {},
   "outputs": [],
   "source": [
    "def func(a, b, c=5):\n",
    "    print(a, b, c)"
   ]
  },
  {
   "cell_type": "code",
   "execution_count": 5,
   "id": "4850c912",
   "metadata": {},
   "outputs": [
    {
     "name": "stdout",
     "output_type": "stream",
     "text": [
      "1 2 3\n"
     ]
    }
   ],
   "source": [
    "func(1, c=3, b=2)"
   ]
  },
  {
   "cell_type": "code",
   "execution_count": null,
   "id": "669b911a",
   "metadata": {},
   "outputs": [],
   "source": [
    "# We passed the values of a,b,c through function call, hence the output. "
   ]
  },
  {
   "cell_type": "markdown",
   "id": "fa96897a",
   "metadata": {},
   "source": [
    "## 3. How about this code: what is its result, and why?\n",
    "##### Answer."
   ]
  },
  {
   "cell_type": "code",
   "execution_count": 6,
   "id": "25c6d71d",
   "metadata": {},
   "outputs": [],
   "source": [
    "def func(a, *pargs):\n",
    "    print(a, pargs)"
   ]
  },
  {
   "cell_type": "code",
   "execution_count": 7,
   "id": "95a34e13",
   "metadata": {},
   "outputs": [
    {
     "name": "stdout",
     "output_type": "stream",
     "text": [
      "1 (2, 3)\n"
     ]
    }
   ],
   "source": [
    "func(1, 2, 3)"
   ]
  },
  {
   "cell_type": "code",
   "execution_count": null,
   "id": "8bb82f2c",
   "metadata": {},
   "outputs": [],
   "source": [
    "# through function call, 1 is assigned to a and\n",
    "# 2,3 are assigned to *pargs. A single '*' stores values in a tuple."
   ]
  },
  {
   "cell_type": "markdown",
   "id": "146797b0",
   "metadata": {},
   "source": [
    "## 4. What does this code print, and why?\n",
    "##### Answer."
   ]
  },
  {
   "cell_type": "code",
   "execution_count": 8,
   "id": "f837f597",
   "metadata": {},
   "outputs": [],
   "source": [
    "def func(a, **kargs):\n",
    "    print(a, kargs)"
   ]
  },
  {
   "cell_type": "code",
   "execution_count": 9,
   "id": "53880d9b",
   "metadata": {},
   "outputs": [
    {
     "name": "stdout",
     "output_type": "stream",
     "text": [
      "1 {'c': 3, 'b': 2}\n"
     ]
    }
   ],
   "source": [
    "func(a=1, c=3, b=2)"
   ]
  },
  {
   "cell_type": "code",
   "execution_count": null,
   "id": "cff56224",
   "metadata": {},
   "outputs": [],
   "source": [
    "# through function call, 1 is assigned to a and\n",
    "# c=3,b=2 are assigned to **kargs. A double '**' stores values in a dict."
   ]
  },
  {
   "cell_type": "markdown",
   "id": "35522071",
   "metadata": {},
   "source": [
    "## 5. What gets printed by this, and explain?\n",
    "##### Answer."
   ]
  },
  {
   "cell_type": "code",
   "execution_count": 10,
   "id": "5c75948c",
   "metadata": {},
   "outputs": [],
   "source": [
    "def func(a, b, c=8, d=5): print(a, b, c, d)"
   ]
  },
  {
   "cell_type": "code",
   "execution_count": 18,
   "id": "02b52a3b",
   "metadata": {},
   "outputs": [
    {
     "name": "stdout",
     "output_type": "stream",
     "text": [
      "1 5 6 5\n"
     ]
    }
   ],
   "source": [
    "func(1, *(5, 6))"
   ]
  },
  {
   "cell_type": "code",
   "execution_count": null,
   "id": "c017b0db",
   "metadata": {},
   "outputs": [],
   "source": [
    "# through function call, 1 is assigned to a\n",
    "# 5,6 are assigned to b,c respectively\n",
    "# since no value is provided for d, d is defaulted to 5"
   ]
  },
  {
   "cell_type": "markdown",
   "id": "618966f0",
   "metadata": {},
   "source": [
    "## 6. what is the result of this, and explain?\n",
    "##### Answer."
   ]
  },
  {
   "cell_type": "code",
   "execution_count": 24,
   "id": "c6338514",
   "metadata": {},
   "outputs": [],
   "source": [
    "def func(a, b, c): a = 2; b[0] = 'x'; c['a'] = 'y'\n",
    "\n",
    "l=1; m=[1]; n={'a':0}"
   ]
  },
  {
   "cell_type": "code",
   "execution_count": 25,
   "id": "5970efba",
   "metadata": {},
   "outputs": [],
   "source": [
    "func(l,m,n)"
   ]
  },
  {
   "cell_type": "code",
   "execution_count": 26,
   "id": "cde44bdc",
   "metadata": {},
   "outputs": [
    {
     "data": {
      "text/plain": [
       "(1, ['x'], {'a': 'y'})"
      ]
     },
     "execution_count": 26,
     "metadata": {},
     "output_type": "execute_result"
    }
   ],
   "source": [
    "l, m, n"
   ]
  },
  {
   "cell_type": "code",
   "execution_count": null,
   "id": "25668918",
   "metadata": {},
   "outputs": [],
   "source": [
    "# The values of l, m, n will be unchanged as the func updates\n",
    "# the copies of these values but not the original values."
   ]
  }
 ],
 "metadata": {
  "kernelspec": {
   "display_name": "Python 3 (ipykernel)",
   "language": "python",
   "name": "python3"
  },
  "language_info": {
   "codemirror_mode": {
    "name": "ipython",
    "version": 3
   },
   "file_extension": ".py",
   "mimetype": "text/x-python",
   "name": "python",
   "nbconvert_exporter": "python",
   "pygments_lexer": "ipython3",
   "version": "3.9.7"
  }
 },
 "nbformat": 4,
 "nbformat_minor": 5
}
