{
 "cells": [
  {
   "cell_type": "markdown",
   "id": "3b342325",
   "metadata": {},
   "source": [
    "## Python Basic Assignment 06"
   ]
  },
  {
   "cell_type": "markdown",
   "id": "f100393b",
   "metadata": {},
   "source": [
    "## 1. What are escape characters, and how do you use them?\n",
    "##### Answer.\n",
    "To insert characters that are illegal in a string, use an escape character.</br>\n",
    "An escape character is a backslash \\ followed by the character you want to insert."
   ]
  },
  {
   "cell_type": "code",
   "execution_count": 2,
   "id": "60caeb40",
   "metadata": {},
   "outputs": [
    {
     "ename": "SyntaxError",
     "evalue": "invalid syntax (Temp/ipykernel_16956/2903018907.py, line 1)",
     "output_type": "error",
     "traceback": [
      "\u001b[1;36m  File \u001b[1;32m\"C:\\Users\\walvi\\AppData\\Local\\Temp/ipykernel_16956/2903018907.py\"\u001b[1;36m, line \u001b[1;32m1\u001b[0m\n\u001b[1;33m    txt = \"We are the so-called \"Vikings\" from the north.\"\u001b[0m\n\u001b[1;37m                                 ^\u001b[0m\n\u001b[1;31mSyntaxError\u001b[0m\u001b[1;31m:\u001b[0m invalid syntax\n"
     ]
    }
   ],
   "source": [
    "# without escape characters\n",
    "\n",
    "txt = \"We are the so-called \"Vikings\" from the north.\"\n",
    "\n",
    "txt"
   ]
  },
  {
   "cell_type": "code",
   "execution_count": 3,
   "id": "a802f54a",
   "metadata": {},
   "outputs": [
    {
     "data": {
      "text/plain": [
       "'We are the so-called \"Vikings\" from the north.'"
      ]
     },
     "execution_count": 3,
     "metadata": {},
     "output_type": "execute_result"
    }
   ],
   "source": [
    "# with escape characters\n",
    "\n",
    "txt = \"We are the so-called \\\"Vikings\\\" from the north.\"\n",
    "\n",
    "txt"
   ]
  },
  {
   "cell_type": "markdown",
   "id": "4daf694c",
   "metadata": {},
   "source": [
    "## 2. What do the escape characters n and t stand for?\n",
    "##### Answer.\n",
    "\\n stands for new line, and \\t stands for tab"
   ]
  },
  {
   "cell_type": "markdown",
   "id": "3fc3f219",
   "metadata": {},
   "source": [
    "## 3. What is the way to include backslash characters in a string?\n",
    "##### Answer."
   ]
  },
  {
   "cell_type": "code",
   "execution_count": 5,
   "id": "ab026f7a",
   "metadata": {},
   "outputs": [
    {
     "data": {
      "text/plain": [
       "'We are the so-called \"Vikings\" from the north.'"
      ]
     },
     "execution_count": 5,
     "metadata": {},
     "output_type": "execute_result"
    }
   ],
   "source": [
    "txt = \"We are the so-called \\\"Vikings\\\" from the north.\"\n",
    "\n",
    "txt"
   ]
  },
  {
   "cell_type": "markdown",
   "id": "b46ec5ff",
   "metadata": {},
   "source": [
    "## 4. The string \"Howl's Moving Castle\" is a correct value. Why isn't the single quote character in the word Howl's not escaped a problem?\n",
    "##### Answer.\n",
    "The single quote in Howl's is fine because you've used double quotes to mark the beginning and end of the string."
   ]
  },
  {
   "cell_type": "code",
   "execution_count": 13,
   "id": "52db82ce",
   "metadata": {},
   "outputs": [
    {
     "data": {
      "text/plain": [
       "\"Howl's Moving Castle\""
      ]
     },
     "execution_count": 13,
     "metadata": {},
     "output_type": "execute_result"
    }
   ],
   "source": [
    "txt = \"Howl's Moving Castle\"\n",
    "\n",
    "txt"
   ]
  },
  {
   "cell_type": "markdown",
   "id": "0faac305",
   "metadata": {},
   "source": [
    "## 5. How do you write a string of newlines if you don't want to use the n character?\n",
    "##### Answer."
   ]
  },
  {
   "cell_type": "code",
   "execution_count": 14,
   "id": "fe4da616",
   "metadata": {},
   "outputs": [
    {
     "name": "stdout",
     "output_type": "stream",
     "text": [
      "Hello\n",
      "world\n"
     ]
    }
   ],
   "source": [
    "print('Hello')\n",
    "print('world')"
   ]
  },
  {
   "cell_type": "markdown",
   "id": "15721048",
   "metadata": {},
   "source": [
    "## 6. What are the values of the given expressions?\n",
    "'Hello, world!'[1]</br>\n",
    "'Hello, world!'[0:5]</br>\n",
    "'Hello, world!'[:5]</br>\n",
    "'Hello, world!'[3:]</br>\n",
    "##### Answer."
   ]
  },
  {
   "cell_type": "code",
   "execution_count": 15,
   "id": "27438a84",
   "metadata": {},
   "outputs": [
    {
     "data": {
      "text/plain": [
       "'e'"
      ]
     },
     "execution_count": 15,
     "metadata": {},
     "output_type": "execute_result"
    }
   ],
   "source": [
    "'Hello, world!'[1]"
   ]
  },
  {
   "cell_type": "code",
   "execution_count": 16,
   "id": "285a6eac",
   "metadata": {},
   "outputs": [
    {
     "data": {
      "text/plain": [
       "'Hello'"
      ]
     },
     "execution_count": 16,
     "metadata": {},
     "output_type": "execute_result"
    }
   ],
   "source": [
    "'Hello, world!'[0:5]"
   ]
  },
  {
   "cell_type": "code",
   "execution_count": 17,
   "id": "224194fb",
   "metadata": {},
   "outputs": [
    {
     "data": {
      "text/plain": [
       "'Hello'"
      ]
     },
     "execution_count": 17,
     "metadata": {},
     "output_type": "execute_result"
    }
   ],
   "source": [
    "'Hello, world!'[:5]"
   ]
  },
  {
   "cell_type": "code",
   "execution_count": 18,
   "id": "a556ba37",
   "metadata": {},
   "outputs": [
    {
     "data": {
      "text/plain": [
       "'lo, world!'"
      ]
     },
     "execution_count": 18,
     "metadata": {},
     "output_type": "execute_result"
    }
   ],
   "source": [
    "'Hello, world!'[3:]"
   ]
  },
  {
   "cell_type": "markdown",
   "id": "cb413b9a",
   "metadata": {},
   "source": [
    "## 7. What are the values of the following expressions?\n",
    "'Hello'.upper()</br>\n",
    "'Hello'.upper().isupper()</br>\n",
    "'Hello'.upper().lower()</br>\n",
    "##### Answer."
   ]
  },
  {
   "cell_type": "code",
   "execution_count": 19,
   "id": "657e6789",
   "metadata": {},
   "outputs": [
    {
     "data": {
      "text/plain": [
       "'HELLO'"
      ]
     },
     "execution_count": 19,
     "metadata": {},
     "output_type": "execute_result"
    }
   ],
   "source": [
    "'Hello'.upper()"
   ]
  },
  {
   "cell_type": "code",
   "execution_count": 21,
   "id": "ab85c7c5",
   "metadata": {},
   "outputs": [
    {
     "data": {
      "text/plain": [
       "True"
      ]
     },
     "execution_count": 21,
     "metadata": {},
     "output_type": "execute_result"
    }
   ],
   "source": [
    "'Hello'.upper().isupper()"
   ]
  },
  {
   "cell_type": "code",
   "execution_count": 23,
   "id": "9e809422",
   "metadata": {},
   "outputs": [
    {
     "data": {
      "text/plain": [
       "'hello'"
      ]
     },
     "execution_count": 23,
     "metadata": {},
     "output_type": "execute_result"
    }
   ],
   "source": [
    "'Hello'.upper().lower()"
   ]
  },
  {
   "cell_type": "markdown",
   "id": "0d315726",
   "metadata": {},
   "source": [
    "## 8. What are the values of the following expressions?\n",
    "'Remember, remember, the fifth of July.'.split()</br>\n",
    "'-'.join('There can only one.'.split())</br>\n",
    "##### Answer."
   ]
  },
  {
   "cell_type": "code",
   "execution_count": 24,
   "id": "73924297",
   "metadata": {},
   "outputs": [
    {
     "data": {
      "text/plain": [
       "['Remember,', 'remember,', 'the', 'fifth', 'of', 'July.']"
      ]
     },
     "execution_count": 24,
     "metadata": {},
     "output_type": "execute_result"
    }
   ],
   "source": [
    "'Remember, remember, the fifth of July.'.split()"
   ]
  },
  {
   "cell_type": "code",
   "execution_count": 25,
   "id": "28e96d70",
   "metadata": {},
   "outputs": [
    {
     "data": {
      "text/plain": [
       "'There-can-only-one.'"
      ]
     },
     "execution_count": 25,
     "metadata": {},
     "output_type": "execute_result"
    }
   ],
   "source": [
    "'-'.join('There can only one.'.split())"
   ]
  },
  {
   "cell_type": "markdown",
   "id": "174258a8",
   "metadata": {},
   "source": [
    "## 9. What are the methods for right-justifying, left-justifying, and centering a string?\n",
    "##### Answer."
   ]
  },
  {
   "cell_type": "code",
   "execution_count": 29,
   "id": "560a2c69",
   "metadata": {},
   "outputs": [
    {
     "data": {
      "text/plain": [
       "'--------------------Mercedes'"
      ]
     },
     "execution_count": 29,
     "metadata": {},
     "output_type": "execute_result"
    }
   ],
   "source": [
    "# right justifying\n",
    "\n",
    "txt = 'Mercedes'\n",
    "txt.rjust(28, \"-\")"
   ]
  },
  {
   "cell_type": "code",
   "execution_count": 30,
   "id": "81a2e2c1",
   "metadata": {},
   "outputs": [
    {
     "data": {
      "text/plain": [
       "'Mercedes--------------------'"
      ]
     },
     "execution_count": 30,
     "metadata": {},
     "output_type": "execute_result"
    }
   ],
   "source": [
    "# left justifying\n",
    "\n",
    "txt = 'Mercedes'\n",
    "txt.ljust(28, \"-\")"
   ]
  },
  {
   "cell_type": "code",
   "execution_count": 31,
   "id": "d7cf0dcc",
   "metadata": {},
   "outputs": [
    {
     "data": {
      "text/plain": [
       "'----------Mercedes----------'"
      ]
     },
     "execution_count": 31,
     "metadata": {},
     "output_type": "execute_result"
    }
   ],
   "source": [
    "# center justifying\n",
    "\n",
    "txt = 'Mercedes'\n",
    "txt.center(28, \"-\")"
   ]
  },
  {
   "cell_type": "markdown",
   "id": "13698cb1",
   "metadata": {},
   "source": [
    "## 10. What is the best way to remove whitespace characters from the start or end?\n",
    "##### Answer."
   ]
  },
  {
   "cell_type": "code",
   "execution_count": 33,
   "id": "a06166e4",
   "metadata": {},
   "outputs": [],
   "source": [
    "txt = \"      Mercedes                 \""
   ]
  },
  {
   "cell_type": "code",
   "execution_count": 34,
   "id": "bb26016b",
   "metadata": {},
   "outputs": [
    {
     "data": {
      "text/plain": [
       "'Mercedes                 '"
      ]
     },
     "execution_count": 34,
     "metadata": {},
     "output_type": "execute_result"
    }
   ],
   "source": [
    "txt = txt.lstrip()\n",
    "\n",
    "txt"
   ]
  },
  {
   "cell_type": "code",
   "execution_count": 35,
   "id": "48a3746f",
   "metadata": {},
   "outputs": [
    {
     "data": {
      "text/plain": [
       "'Mercedes'"
      ]
     },
     "execution_count": 35,
     "metadata": {},
     "output_type": "execute_result"
    }
   ],
   "source": [
    "txt = txt.rstrip()\n",
    "\n",
    "txt"
   ]
  }
 ],
 "metadata": {
  "kernelspec": {
   "display_name": "Python 3 (ipykernel)",
   "language": "python",
   "name": "python3"
  },
  "language_info": {
   "codemirror_mode": {
    "name": "ipython",
    "version": 3
   },
   "file_extension": ".py",
   "mimetype": "text/x-python",
   "name": "python",
   "nbconvert_exporter": "python",
   "pygments_lexer": "ipython3",
   "version": "3.9.7"
  }
 },
 "nbformat": 4,
 "nbformat_minor": 5
}
