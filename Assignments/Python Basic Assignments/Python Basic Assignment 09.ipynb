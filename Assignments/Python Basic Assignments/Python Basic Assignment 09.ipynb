{
 "cells": [
  {
   "cell_type": "markdown",
   "id": "dc790791",
   "metadata": {},
   "source": [
    "## Python Basic Assignment 09"
   ]
  },
  {
   "cell_type": "markdown",
   "id": "0a969ab7",
   "metadata": {},
   "source": [
    "## 1. To what does a relative path refer?\n",
    "##### Answer.\n",
    "os.path.relpath() method in Python is used to get a relative filepath to the given path either from the current working directory or from the given directory."
   ]
  },
  {
   "cell_type": "markdown",
   "id": "cd76c3b0",
   "metadata": {},
   "source": [
    "## 2. What does an absolute path start with your operating system?\n",
    "##### Answer.\n",
    "C:\\ in my windows OS."
   ]
  },
  {
   "cell_type": "markdown",
   "id": "2c2abbe8",
   "metadata": {},
   "source": [
    "## 3. What do the functions os.getcwd() and os.chdir() do?\n",
    "##### Answer.\n",
    "- os. getcwd() method tells us the location of current working directory.\n",
    "- os.chdir() is used to change the current working directory to specified path."
   ]
  },
  {
   "cell_type": "markdown",
   "id": "85afee1b",
   "metadata": {},
   "source": [
    "## 4. What are the . and .. folders?\n",
    "##### Answer.\n",
    "- . single dot means the current folder\n",
    "- .. double dot means the parent folder"
   ]
  },
  {
   "cell_type": "markdown",
   "id": "5f7f02d1",
   "metadata": {},
   "source": [
    "## 5. In C:\\bacon\\eggs\\spam.txt, which part is the dir name, and which part is the base name?\n",
    "##### Answer.\n",
    "- C:\\bacon\\eggs is the dir name\n",
    "- spam.txt is the base name"
   ]
  },
  {
   "cell_type": "markdown",
   "id": "9583c96a",
   "metadata": {},
   "source": [
    "## 6. What are the three “mode” arguments that can be passed to the open() function?\n",
    "##### Answer.\n",
    "The three mode arguments that can be passed to the open() function are:\n",
    "\n",
    "- 'r' for read mode\n",
    "- 'w' for write mode\n",
    "- 'a' for append mode."
   ]
  },
  {
   "cell_type": "markdown",
   "id": "4b833ca0",
   "metadata": {},
   "source": [
    "## 7. What happens if an existing file is opened in write mode?\n",
    "##### Answer.\n",
    "- If an existing file is opened in write mode, then all the existing content from the file is erased and the new content will be added.\n",
    "- This might result in loss of data if you wanted to have both existing and new data to existing in the file"
   ]
  },
  {
   "cell_type": "markdown",
   "id": "bc060ef2",
   "metadata": {},
   "source": [
    "## 8. How do you tell the difference between read() and readlines()?\n",
    "##### Answer.\n",
    "- The read() method returns the file’s entire contents as a single string value.\n",
    "- The readlines() method returns a list of strings, where each string is a line from the file’s contents."
   ]
  },
  {
   "cell_type": "markdown",
   "id": "b0133f17",
   "metadata": {},
   "source": [
    "## 9. What data structure does a shelf value resemble?\n",
    "##### Answer.\n",
    "A shelf value resembles a dictionary value; it has keys and values, along with keys() and values() methods that work similarly to the dictionary methods of the same names."
   ]
  },
  {
   "cell_type": "code",
   "execution_count": null,
   "id": "a8c4fe56",
   "metadata": {},
   "outputs": [],
   "source": []
  }
 ],
 "metadata": {
  "kernelspec": {
   "display_name": "Python 3 (ipykernel)",
   "language": "python",
   "name": "python3"
  },
  "language_info": {
   "codemirror_mode": {
    "name": "ipython",
    "version": 3
   },
   "file_extension": ".py",
   "mimetype": "text/x-python",
   "name": "python",
   "nbconvert_exporter": "python",
   "pygments_lexer": "ipython3",
   "version": "3.9.7"
  }
 },
 "nbformat": 4,
 "nbformat_minor": 5
}
