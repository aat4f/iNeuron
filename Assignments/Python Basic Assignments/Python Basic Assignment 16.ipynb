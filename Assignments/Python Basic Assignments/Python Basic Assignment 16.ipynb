{
 "cells": [
  {
   "cell_type": "markdown",
   "id": "d3676753",
   "metadata": {},
   "source": [
    "## Python Basic Assignment 16"
   ]
  },
  {
   "cell_type": "markdown",
   "id": "d9d4127e",
   "metadata": {},
   "source": [
    "## 1. Create a list called years_list, starting with the year of your birth, and each year thereafter until the year of your fifth birthday. For example, if you were born in 1980. the list would be years_list = [1980, 1981, 1982, 1983, 1984, 1985].\n",
    "##### Answer."
   ]
  },
  {
   "cell_type": "code",
   "execution_count": 1,
   "id": "384575f5",
   "metadata": {},
   "outputs": [
    {
     "data": {
      "text/plain": [
       "[1997, 1998, 1999, 2000, 2001, 2002]"
      ]
     },
     "execution_count": 1,
     "metadata": {},
     "output_type": "execute_result"
    }
   ],
   "source": [
    "years_list = [1997,1998,1999,2000,2001,2002]\n",
    "\n",
    "years_list"
   ]
  },
  {
   "cell_type": "markdown",
   "id": "3e299204",
   "metadata": {},
   "source": [
    "## 2. In which year in years_list was your third birthday? Remember, you were 0 years of age for your first year.\n",
    "##### Answer."
   ]
  },
  {
   "cell_type": "code",
   "execution_count": 4,
   "id": "a55d32d1",
   "metadata": {},
   "outputs": [
    {
     "data": {
      "text/plain": [
       "2000"
      ]
     },
     "execution_count": 4,
     "metadata": {},
     "output_type": "execute_result"
    }
   ],
   "source": [
    "years_list[3]"
   ]
  },
  {
   "cell_type": "markdown",
   "id": "7ac47755",
   "metadata": {},
   "source": [
    "## 3.In the years list, which year were you the oldest?\n",
    "##### Answer."
   ]
  },
  {
   "cell_type": "code",
   "execution_count": 5,
   "id": "10320210",
   "metadata": {},
   "outputs": [
    {
     "data": {
      "text/plain": [
       "2002"
      ]
     },
     "execution_count": 5,
     "metadata": {},
     "output_type": "execute_result"
    }
   ],
   "source": [
    "years_list[5]"
   ]
  },
  {
   "cell_type": "markdown",
   "id": "e955d998",
   "metadata": {},
   "source": [
    "## 4. Make a list called things with these three strings as elements: \"mozzarella\", \"cinderella\", \"salmonella\".\n",
    "##### Answer."
   ]
  },
  {
   "cell_type": "code",
   "execution_count": 9,
   "id": "3459f330",
   "metadata": {},
   "outputs": [
    {
     "data": {
      "text/plain": [
       "['mozzarella', 'cinderella', 'salmonella']"
      ]
     },
     "execution_count": 9,
     "metadata": {},
     "output_type": "execute_result"
    }
   ],
   "source": [
    "things = [\"mozzarella\", \"cinderella\", \"salmonella\"]\n",
    "\n",
    "things"
   ]
  },
  {
   "cell_type": "markdown",
   "id": "ef7dbc3f",
   "metadata": {},
   "source": [
    "## 5. Capitalize the element in things that refers to a person and then print the list. Did it change the element in the list? \"salmonella\".\n",
    "##### Answer."
   ]
  },
  {
   "cell_type": "code",
   "execution_count": 11,
   "id": "cb7ff9b3",
   "metadata": {},
   "outputs": [
    {
     "name": "stdout",
     "output_type": "stream",
     "text": [
      "['mozzarella', 'Cinderella', 'salmonella']\n"
     ]
    }
   ],
   "source": [
    "for i in range(len(things)):\n",
    "    if things[i] == \"cinderella\":\n",
    "        things[i] = things[i].capitalize()\n",
    "\n",
    "print(things)"
   ]
  },
  {
   "cell_type": "markdown",
   "id": "d80c731e",
   "metadata": {},
   "source": [
    "## 6. Make a surprise list with the elements \"Groucho,\" \"Chico,\" and \"Harpo.\"\n",
    "##### Answer."
   ]
  },
  {
   "cell_type": "code",
   "execution_count": 13,
   "id": "e4bf0856",
   "metadata": {},
   "outputs": [],
   "source": [
    "surprise_list = [\"Groucho\", \"Chico\", \"Harpo\"]"
   ]
  },
  {
   "cell_type": "markdown",
   "id": "a1e7b5fc",
   "metadata": {},
   "source": [
    "## 7. Lowercase the last element of the surprise list, reverse it, and then capitalize it.\n",
    "##### Answer."
   ]
  },
  {
   "cell_type": "code",
   "execution_count": 14,
   "id": "3d089551",
   "metadata": {},
   "outputs": [
    {
     "data": {
      "text/plain": [
       "['Groucho', 'Chico', 'harpo']"
      ]
     },
     "execution_count": 14,
     "metadata": {},
     "output_type": "execute_result"
    }
   ],
   "source": [
    "# lowercase\n",
    "\n",
    "surprise_list[-1] = surprise_list[-1].lower()\n",
    "\n",
    "surprise_list"
   ]
  },
  {
   "cell_type": "code",
   "execution_count": 15,
   "id": "38497788",
   "metadata": {},
   "outputs": [
    {
     "data": {
      "text/plain": [
       "['Groucho', 'Chico', 'oprah']"
      ]
     },
     "execution_count": 15,
     "metadata": {},
     "output_type": "execute_result"
    }
   ],
   "source": [
    "# reverse\n",
    "\n",
    "def reverse(string):\n",
    "    string = string[::-1]\n",
    "    return string\n",
    "  \n",
    "s = surprise_list[-1]\n",
    "surprise_list[-1] = reverse(s)\n",
    "surprise_list"
   ]
  },
  {
   "cell_type": "code",
   "execution_count": 16,
   "id": "312a4fc8",
   "metadata": {},
   "outputs": [
    {
     "data": {
      "text/plain": [
       "['Groucho', 'Chico', 'Oprah']"
      ]
     },
     "execution_count": 16,
     "metadata": {},
     "output_type": "execute_result"
    }
   ],
   "source": [
    "# capitalize\n",
    "\n",
    "surprise_list[-1] = surprise_list[-1].capitalize()\n",
    "\n",
    "surprise_list"
   ]
  },
  {
   "cell_type": "markdown",
   "id": "b66ad65c",
   "metadata": {},
   "source": [
    "## 8. Make an English-to-French dictionary called e2f and print it. Here are your starter words: dog is chien, cat is chat, and walrus is morse.\n",
    "##### Answer."
   ]
  },
  {
   "cell_type": "code",
   "execution_count": 21,
   "id": "6e319229",
   "metadata": {},
   "outputs": [
    {
     "data": {
      "text/plain": [
       "{'dog': 'chien', 'cat': 'chat', 'walrus': 'morse'}"
      ]
     },
     "execution_count": 21,
     "metadata": {},
     "output_type": "execute_result"
    }
   ],
   "source": [
    "e2f = {\n",
    "    'dog':'chien',\n",
    "    'cat':'chat',\n",
    "    'walrus':'morse'\n",
    "}\n",
    "\n",
    "e2f"
   ]
  },
  {
   "cell_type": "markdown",
   "id": "0b65ccb6",
   "metadata": {},
   "source": [
    "## 9. Write the French word for walrus in your three-word dictionary e2f.\n",
    "##### Answer."
   ]
  },
  {
   "cell_type": "code",
   "execution_count": 22,
   "id": "b3cc32f2",
   "metadata": {},
   "outputs": [
    {
     "data": {
      "text/plain": [
       "'morse'"
      ]
     },
     "execution_count": 22,
     "metadata": {},
     "output_type": "execute_result"
    }
   ],
   "source": [
    "e2f['walrus']"
   ]
  },
  {
   "cell_type": "markdown",
   "id": "197c0094",
   "metadata": {},
   "source": [
    "## 10. Make a French-to-English dictionary called f2e from e2f. Use the items method.\n",
    "##### Answer."
   ]
  },
  {
   "cell_type": "code",
   "execution_count": 25,
   "id": "19751ae2",
   "metadata": {},
   "outputs": [
    {
     "data": {
      "text/plain": [
       "{'chien': 'dog', 'chat': 'cat', 'morse': 'walrus'}"
      ]
     },
     "execution_count": 25,
     "metadata": {},
     "output_type": "execute_result"
    }
   ],
   "source": [
    "f2e = dict([(value, key) for key, value in e2f.items()])\n",
    "\n",
    "f2e"
   ]
  },
  {
   "cell_type": "markdown",
   "id": "4bb1dc8f",
   "metadata": {},
   "source": [
    "## 11. Print the English version of the French word chien using f2e.\n",
    "##### Answer."
   ]
  },
  {
   "cell_type": "code",
   "execution_count": 26,
   "id": "10450c95",
   "metadata": {},
   "outputs": [
    {
     "data": {
      "text/plain": [
       "'dog'"
      ]
     },
     "execution_count": 26,
     "metadata": {},
     "output_type": "execute_result"
    }
   ],
   "source": [
    "f2e['chien']"
   ]
  },
  {
   "cell_type": "markdown",
   "id": "bfbcf7b0",
   "metadata": {},
   "source": [
    "## 12. Make and print a set of English words from the keys in e2f.\n",
    "##### Answer."
   ]
  },
  {
   "cell_type": "code",
   "execution_count": 31,
   "id": "16f021ed",
   "metadata": {},
   "outputs": [
    {
     "name": "stdout",
     "output_type": "stream",
     "text": [
      "{'dog', 'walrus', 'cat'}\n"
     ]
    }
   ],
   "source": [
    "print(set(e2f.keys()))"
   ]
  },
  {
   "cell_type": "markdown",
   "id": "248bd63d",
   "metadata": {},
   "source": [
    "## 13. Make a multilevel dictionary called life. Use these strings for the topmost keys: 'animals', 'plants', and 'other'. Make the 'animals' key refer to another dictionary with the keys 'cats', 'octopi', and 'emus'. Make the 'cats' key refer to a list of strings with the values 'Henri', 'Grumpy', and 'Lucy'. Make all the other keys refer to empty dictionaries.\n",
    "##### Answer."
   ]
  },
  {
   "cell_type": "code",
   "execution_count": 32,
   "id": "249e4f7c",
   "metadata": {},
   "outputs": [
    {
     "name": "stdout",
     "output_type": "stream",
     "text": [
      "{'animals': {'cats': ['Henri', 'Grumpy', 'Lucy'], 'octopi': {}, 'emus': {}}, 'plants': {}, 'other': {}}\n"
     ]
    }
   ],
   "source": [
    "list_strings = ['Henri', 'Grumpy', 'Lucy']\n",
    "\n",
    "animals = {\n",
    "          \"cats\": list_strings,\n",
    "          \"octopi\": {},\n",
    "          \"emus\" : {}\n",
    "          }\n",
    "life = {\n",
    "       \"animals\": animals,\n",
    "       \"plants\": {},\n",
    "       \"other\": {}\n",
    "       }\n",
    "\n",
    "print(life)"
   ]
  },
  {
   "cell_type": "markdown",
   "id": "d2303ad4",
   "metadata": {},
   "source": [
    "## 14. Print the top-level keys of life.\n",
    "##### Answer."
   ]
  },
  {
   "cell_type": "code",
   "execution_count": 34,
   "id": "c3c89df6",
   "metadata": {},
   "outputs": [
    {
     "name": "stdout",
     "output_type": "stream",
     "text": [
      "dict_keys(['animals', 'plants', 'other'])\n"
     ]
    }
   ],
   "source": [
    "print(life.keys())"
   ]
  },
  {
   "cell_type": "markdown",
   "id": "14965b13",
   "metadata": {},
   "source": [
    "## 15. Print the keys for life['animals'].\n",
    "##### Answer."
   ]
  },
  {
   "cell_type": "code",
   "execution_count": 36,
   "id": "4db7dc0c",
   "metadata": {},
   "outputs": [
    {
     "name": "stdout",
     "output_type": "stream",
     "text": [
      "dict_keys(['cats', 'octopi', 'emus'])\n"
     ]
    }
   ],
   "source": [
    "print(life['animals'].keys())"
   ]
  },
  {
   "cell_type": "markdown",
   "id": "a7aac36b",
   "metadata": {},
   "source": [
    "## 16. Print the values for life['animals']['cats']\n",
    "##### Answer."
   ]
  },
  {
   "cell_type": "code",
   "execution_count": 39,
   "id": "6f26e464",
   "metadata": {},
   "outputs": [
    {
     "name": "stdout",
     "output_type": "stream",
     "text": [
      "['Henri', 'Grumpy', 'Lucy']\n"
     ]
    }
   ],
   "source": [
    "print(life['animals']['cats'])"
   ]
  }
 ],
 "metadata": {
  "kernelspec": {
   "display_name": "Python 3 (ipykernel)",
   "language": "python",
   "name": "python3"
  },
  "language_info": {
   "codemirror_mode": {
    "name": "ipython",
    "version": 3
   },
   "file_extension": ".py",
   "mimetype": "text/x-python",
   "name": "python",
   "nbconvert_exporter": "python",
   "pygments_lexer": "ipython3",
   "version": "3.9.7"
  }
 },
 "nbformat": 4,
 "nbformat_minor": 5
}
