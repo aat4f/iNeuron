{
 "cells": [
  {
   "cell_type": "markdown",
   "id": "b52e698b",
   "metadata": {},
   "source": [
    "## Python Basic Assignment 22"
   ]
  },
  {
   "cell_type": "markdown",
   "id": "f3056ccd",
   "metadata": {},
   "source": [
    "## 1. What is the result of the code, and explain?\n",
    "##### Answer."
   ]
  },
  {
   "cell_type": "code",
   "execution_count": 1,
   "id": "838e808e",
   "metadata": {},
   "outputs": [
    {
     "name": "stdout",
     "output_type": "stream",
     "text": [
      "iNeuron\n"
     ]
    }
   ],
   "source": [
    "X = 'iNeuron'\n",
    "\n",
    "def func():\n",
    "    print(X)\n",
    "\n",
    "\n",
    "func()"
   ]
  },
  {
   "cell_type": "code",
   "execution_count": null,
   "id": "f6e2b221",
   "metadata": {},
   "outputs": [],
   "source": [
    "# This is a code to print 'X' using function.\n",
    "# Upon calling the function 'func()', it runs the command inside the\n",
    "# function. The command 'print' prints the variable X, which has a string assigned to it."
   ]
  },
  {
   "cell_type": "markdown",
   "id": "7b68c709",
   "metadata": {},
   "source": [
    "## 2. What is the result of the code, and explain\n",
    "##### Answer."
   ]
  },
  {
   "cell_type": "code",
   "execution_count": 2,
   "id": "ebe1660a",
   "metadata": {},
   "outputs": [],
   "source": [
    "X = 'iNeuron'\n",
    "\n",
    "def func():\n",
    "    X = 'NI!'"
   ]
  },
  {
   "cell_type": "code",
   "execution_count": 3,
   "id": "429f93ef",
   "metadata": {},
   "outputs": [],
   "source": [
    "func()"
   ]
  },
  {
   "cell_type": "code",
   "execution_count": 4,
   "id": "35e9e083",
   "metadata": {},
   "outputs": [
    {
     "name": "stdout",
     "output_type": "stream",
     "text": [
      "iNeuron\n"
     ]
    }
   ],
   "source": [
    "print(X)"
   ]
  },
  {
   "cell_type": "code",
   "execution_count": null,
   "id": "c9b5b418",
   "metadata": {},
   "outputs": [],
   "source": [
    "# In this case, replacing 'X' will not work, as the 'X' variable in the\n",
    "# function is local, and not accessible outside the function."
   ]
  },
  {
   "cell_type": "markdown",
   "id": "672b1773",
   "metadata": {},
   "source": [
    "## 3. What does this code print, and why?\n",
    "##### Answer."
   ]
  },
  {
   "cell_type": "code",
   "execution_count": 5,
   "id": "f3691e51",
   "metadata": {},
   "outputs": [],
   "source": [
    "X = 'iNeuron'\n",
    "\n",
    "def func():\n",
    "    X = 'NI'\n",
    "    print(X)"
   ]
  },
  {
   "cell_type": "code",
   "execution_count": 6,
   "id": "b2d35dc3",
   "metadata": {},
   "outputs": [
    {
     "name": "stdout",
     "output_type": "stream",
     "text": [
      "NI\n"
     ]
    }
   ],
   "source": [
    "func()"
   ]
  },
  {
   "cell_type": "code",
   "execution_count": 7,
   "id": "639e0be4",
   "metadata": {},
   "outputs": [
    {
     "name": "stdout",
     "output_type": "stream",
     "text": [
      "iNeuron\n"
     ]
    }
   ],
   "source": [
    "print(X)"
   ]
  },
  {
   "cell_type": "code",
   "execution_count": null,
   "id": "6f0568c3",
   "metadata": {},
   "outputs": [],
   "source": [
    "# This is a code to display global 'X' and local 'X'\n",
    "# Calling 'print(X)' and calling 'func()' gives different values\n",
    "# of X, as one is a global variable, and the other is a local\n",
    "# variable."
   ]
  },
  {
   "cell_type": "markdown",
   "id": "5d49228f",
   "metadata": {},
   "source": [
    "## 4. What output does this code produce? Why?\n",
    "##### Answer."
   ]
  },
  {
   "cell_type": "code",
   "execution_count": 8,
   "id": "3e2648c8",
   "metadata": {},
   "outputs": [],
   "source": [
    "X = 'iNeuron'\n",
    "\n",
    "def func():\n",
    "    global X\n",
    "    X = 'NI'"
   ]
  },
  {
   "cell_type": "code",
   "execution_count": 9,
   "id": "f2423f9f",
   "metadata": {},
   "outputs": [],
   "source": [
    "func()"
   ]
  },
  {
   "cell_type": "code",
   "execution_count": 10,
   "id": "ff8cf862",
   "metadata": {},
   "outputs": [
    {
     "name": "stdout",
     "output_type": "stream",
     "text": [
      "NI\n"
     ]
    }
   ],
   "source": [
    "print(X)"
   ]
  },
  {
   "cell_type": "code",
   "execution_count": null,
   "id": "ccc4af84",
   "metadata": {},
   "outputs": [],
   "source": [
    "# This is a code to replace 'X' using 'global' keyword\n",
    "# Using 'global' keyword, we have changed the scope of 'X' from local\n",
    "# to global. Hence calling 'func()' changes the value of the already\n",
    "# global 'X' from 'iNeuron' to 'NI'"
   ]
  },
  {
   "cell_type": "markdown",
   "id": "b42b6993",
   "metadata": {},
   "source": [
    "## 5. What about this code—what’s the output, and why?\n",
    "##### Answer."
   ]
  },
  {
   "cell_type": "code",
   "execution_count": 15,
   "id": "a1e0c1ce",
   "metadata": {},
   "outputs": [],
   "source": [
    "X = 'iNeuron'\n",
    "\n",
    "def func():\n",
    "    X = 'NI'\n",
    "    def nested():\n",
    "        print(X)\n",
    "    nested()"
   ]
  },
  {
   "cell_type": "code",
   "execution_count": 16,
   "id": "7ad397c4",
   "metadata": {},
   "outputs": [
    {
     "name": "stdout",
     "output_type": "stream",
     "text": [
      "NI\n"
     ]
    }
   ],
   "source": [
    "func()"
   ]
  },
  {
   "cell_type": "code",
   "execution_count": 17,
   "id": "5d3def33",
   "metadata": {},
   "outputs": [
    {
     "data": {
      "text/plain": [
       "'iNeuron'"
      ]
     },
     "execution_count": 17,
     "metadata": {},
     "output_type": "execute_result"
    }
   ],
   "source": [
    "X"
   ]
  },
  {
   "cell_type": "code",
   "execution_count": null,
   "id": "00db0c27",
   "metadata": {},
   "outputs": [],
   "source": [
    "# calling 'func()' prints local variable X through the nested function 'nested()'\n",
    "# calling 'X' prints global variable X"
   ]
  },
  {
   "cell_type": "markdown",
   "id": "8b93ba17",
   "metadata": {},
   "source": [
    "## 6. How about this code: what is its output in Python 3, and explain?\n",
    "##### Answer."
   ]
  },
  {
   "cell_type": "code",
   "execution_count": 26,
   "id": "22806500",
   "metadata": {},
   "outputs": [],
   "source": [
    "def func():\n",
    "    X = 'NI'\n",
    "    def nested():\n",
    "        nonlocal X\n",
    "        X = 'Spam'\n",
    "    nested()\n",
    "    print(X)"
   ]
  },
  {
   "cell_type": "code",
   "execution_count": 27,
   "id": "3c96de79",
   "metadata": {},
   "outputs": [
    {
     "name": "stdout",
     "output_type": "stream",
     "text": [
      "Spam\n"
     ]
    }
   ],
   "source": [
    "func()"
   ]
  },
  {
   "cell_type": "code",
   "execution_count": null,
   "id": "f6debeaf",
   "metadata": {},
   "outputs": [],
   "source": [
    "# here, 'nonlocal' keyword helps 'nested()' access 'X' from it's\n",
    "# parent function 'func()'"
   ]
  }
 ],
 "metadata": {
  "kernelspec": {
   "display_name": "Python 3 (ipykernel)",
   "language": "python",
   "name": "python3"
  },
  "language_info": {
   "codemirror_mode": {
    "name": "ipython",
    "version": 3
   },
   "file_extension": ".py",
   "mimetype": "text/x-python",
   "name": "python",
   "nbconvert_exporter": "python",
   "pygments_lexer": "ipython3",
   "version": "3.9.7"
  }
 },
 "nbformat": 4,
 "nbformat_minor": 5
}
