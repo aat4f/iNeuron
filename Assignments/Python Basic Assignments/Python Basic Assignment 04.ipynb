{
 "cells": [
  {
   "cell_type": "markdown",
   "id": "ca687157",
   "metadata": {},
   "source": [
    "## Python Basic Assignment 04"
   ]
  },
  {
   "cell_type": "markdown",
   "id": "e71ed7a1",
   "metadata": {},
   "source": [
    "## 1. What exactly is []?\n",
    "##### Answer.\n",
    "In python, a list is created by placing elements within square brackets, seperated by commas."
   ]
  },
  {
   "cell_type": "markdown",
   "id": "d0a27cd4",
   "metadata": {},
   "source": [
    "## 2. In a list of values stored in a variable called spam, how would you assign the value 'hello' as the third value? (Assume [2, 4, 6, 8, 10] are in spam.)\n",
    "##### Answer."
   ]
  },
  {
   "cell_type": "code",
   "execution_count": 1,
   "id": "92dfb591",
   "metadata": {},
   "outputs": [
    {
     "data": {
      "text/plain": [
       "[2, 4, 'hello', 6, 8, 10]"
      ]
     },
     "execution_count": 1,
     "metadata": {},
     "output_type": "execute_result"
    }
   ],
   "source": [
    "spam = [2,4,6,8,10]\n",
    "\n",
    "spam.insert(2,'hello')\n",
    "\n",
    "spam"
   ]
  },
  {
   "cell_type": "markdown",
   "id": "9a02e05c",
   "metadata": {},
   "source": [
    "## 3. What is the value of spam[int(int('3' * 2) / 11)]?\n",
    "##### Answer."
   ]
  },
  {
   "cell_type": "code",
   "execution_count": 2,
   "id": "b118454d",
   "metadata": {},
   "outputs": [
    {
     "data": {
      "text/plain": [
       "6"
      ]
     },
     "execution_count": 2,
     "metadata": {},
     "output_type": "execute_result"
    }
   ],
   "source": [
    "spam[int(int('3' * 2) / 11)]"
   ]
  },
  {
   "cell_type": "markdown",
   "id": "51cfa5ee",
   "metadata": {},
   "source": [
    "## 4. What is the value of spam[-1]?\n",
    "##### Answer."
   ]
  },
  {
   "cell_type": "code",
   "execution_count": 3,
   "id": "2e193a4e",
   "metadata": {},
   "outputs": [
    {
     "data": {
      "text/plain": [
       "10"
      ]
     },
     "execution_count": 3,
     "metadata": {},
     "output_type": "execute_result"
    }
   ],
   "source": [
    "spam[-1]"
   ]
  },
  {
   "cell_type": "markdown",
   "id": "850b9ba1",
   "metadata": {},
   "source": [
    "## 5. What is the value of spam[:2]?\n",
    "##### Answer."
   ]
  },
  {
   "cell_type": "code",
   "execution_count": 4,
   "id": "0191cae7",
   "metadata": {},
   "outputs": [
    {
     "data": {
      "text/plain": [
       "[2, 4]"
      ]
     },
     "execution_count": 4,
     "metadata": {},
     "output_type": "execute_result"
    }
   ],
   "source": [
    "spam[:2]"
   ]
  },
  {
   "cell_type": "markdown",
   "id": "bbb52d6b",
   "metadata": {},
   "source": [
    "## Let's pretend bacon has the list [3.14, 'cat,' 11, 'cat,' True] for the next three questions.\n",
    "\n",
    "## 6. What is the value of bacon.index('cat')?\n",
    "##### Answer."
   ]
  },
  {
   "cell_type": "code",
   "execution_count": 5,
   "id": "4c7b3fce",
   "metadata": {},
   "outputs": [],
   "source": [
    "bacon = [3.14, 'cat', 11, 'cat', True]"
   ]
  },
  {
   "cell_type": "code",
   "execution_count": 6,
   "id": "4efddcf2",
   "metadata": {},
   "outputs": [
    {
     "data": {
      "text/plain": [
       "1"
      ]
     },
     "execution_count": 6,
     "metadata": {},
     "output_type": "execute_result"
    }
   ],
   "source": [
    "bacon.index('cat')"
   ]
  },
  {
   "cell_type": "markdown",
   "id": "77f67b2a",
   "metadata": {},
   "source": [
    "## 7. How does bacon.append(99) change the look of the list value in bacon?\n",
    "##### Answer."
   ]
  },
  {
   "cell_type": "code",
   "execution_count": 7,
   "id": "1f40f165",
   "metadata": {},
   "outputs": [
    {
     "data": {
      "text/plain": [
       "[3.14, 'cat', 11, 'cat', True, 99]"
      ]
     },
     "execution_count": 7,
     "metadata": {},
     "output_type": "execute_result"
    }
   ],
   "source": [
    "bacon.append(99)\n",
    "\n",
    "bacon"
   ]
  },
  {
   "cell_type": "markdown",
   "id": "44d21d8c",
   "metadata": {},
   "source": [
    "## 8. How does bacon.remove('cat') change the look of the list in bacon?\n",
    "##### Answer."
   ]
  },
  {
   "cell_type": "code",
   "execution_count": 8,
   "id": "f4ae7df5",
   "metadata": {},
   "outputs": [
    {
     "data": {
      "text/plain": [
       "[3.14, 11, 'cat', True, 99]"
      ]
     },
     "execution_count": 8,
     "metadata": {},
     "output_type": "execute_result"
    }
   ],
   "source": [
    "bacon.remove('cat')\n",
    "\n",
    "bacon"
   ]
  },
  {
   "cell_type": "markdown",
   "id": "86882b90",
   "metadata": {},
   "source": [
    "## 9. What are the list concatenation and list replication operators?\n",
    "##### Answer.\n",
    "List concatenation operator: +</br>\n",
    "List replication operator: *"
   ]
  },
  {
   "cell_type": "markdown",
   "id": "4bc5ecf7",
   "metadata": {},
   "source": [
    "## 10. What is difference between the list methods append() and insert()?\n",
    "##### Answer."
   ]
  },
  {
   "cell_type": "code",
   "execution_count": 9,
   "id": "902c8286",
   "metadata": {},
   "outputs": [
    {
     "data": {
      "text/plain": [
       "['abc', 1, 99, ['hi', 'my', 'name']]"
      ]
     },
     "execution_count": 9,
     "metadata": {},
     "output_type": "execute_result"
    }
   ],
   "source": [
    "a = ['abc',1,99]\n",
    "b = ['hi','my','name']\n",
    "\n",
    "a.append(b)\n",
    "\n",
    "a"
   ]
  },
  {
   "cell_type": "code",
   "execution_count": 10,
   "id": "7443902a",
   "metadata": {},
   "outputs": [
    {
     "data": {
      "text/plain": [
       "['abc', ['hi', 'my', 'name'], 1, 99]"
      ]
     },
     "execution_count": 10,
     "metadata": {},
     "output_type": "execute_result"
    }
   ],
   "source": [
    "a = ['abc',1,99]\n",
    "b = ['hi','my','name']\n",
    "\n",
    "a.insert(1,b)\n",
    "\n",
    "a"
   ]
  },
  {
   "cell_type": "markdown",
   "id": "a2c18db7",
   "metadata": {},
   "source": [
    "## 11. What are the two methods for removing items from a list?\n",
    "##### Answer."
   ]
  },
  {
   "cell_type": "code",
   "execution_count": 11,
   "id": "8967f337",
   "metadata": {},
   "outputs": [
    {
     "data": {
      "text/plain": [
       "'d'"
      ]
     },
     "execution_count": 11,
     "metadata": {},
     "output_type": "execute_result"
    }
   ],
   "source": [
    "# 1. pop\n",
    "\n",
    "c = ['a','b','c','d','e','f']\n",
    "\n",
    "c.pop(3)"
   ]
  },
  {
   "cell_type": "code",
   "execution_count": 12,
   "id": "2d0b0150",
   "metadata": {},
   "outputs": [
    {
     "data": {
      "text/plain": [
       "['a', 'b', 'c', 'e', 'f']"
      ]
     },
     "execution_count": 12,
     "metadata": {},
     "output_type": "execute_result"
    }
   ],
   "source": [
    "c"
   ]
  },
  {
   "cell_type": "code",
   "execution_count": 13,
   "id": "98f7f325",
   "metadata": {},
   "outputs": [],
   "source": [
    "## 2. remove\n",
    "\n",
    "c = ['a','b','c','d','e','f']\n",
    "\n",
    "c.remove('b')"
   ]
  },
  {
   "cell_type": "code",
   "execution_count": 14,
   "id": "9dd44f18",
   "metadata": {},
   "outputs": [
    {
     "data": {
      "text/plain": [
       "['a', 'c', 'd', 'e', 'f']"
      ]
     },
     "execution_count": 14,
     "metadata": {},
     "output_type": "execute_result"
    }
   ],
   "source": [
    "c"
   ]
  },
  {
   "cell_type": "code",
   "execution_count": 15,
   "id": "d2285e95",
   "metadata": {},
   "outputs": [],
   "source": [
    "# 3. clear\n",
    "\n",
    "c = ['a','b','c','d','e','f']\n",
    "\n",
    "c.clear()"
   ]
  },
  {
   "cell_type": "code",
   "execution_count": 16,
   "id": "560eebc1",
   "metadata": {},
   "outputs": [
    {
     "data": {
      "text/plain": [
       "[]"
      ]
     },
     "execution_count": 16,
     "metadata": {},
     "output_type": "execute_result"
    }
   ],
   "source": [
    "c"
   ]
  },
  {
   "cell_type": "markdown",
   "id": "33c81b1c",
   "metadata": {},
   "source": [
    "## 12. Describe how list values and string values are identical.\n",
    "##### Answer.\n",
    "While list is a collection of values in Python, string is a collection of characters. Both list and strings are iterable in Python and a for loop can be used around a list or string object to iterate through each element in the list/string."
   ]
  },
  {
   "cell_type": "markdown",
   "id": "71c22fa0",
   "metadata": {},
   "source": [
    "## 13. What's the difference between tuples and lists?\n",
    "##### Answer.\n",
    "Lists are mutable and tuples are immutable."
   ]
  },
  {
   "cell_type": "markdown",
   "id": "1dddbc85",
   "metadata": {},
   "source": [
    "## 14. How do you type a tuple value that only contains the integer 42?\n",
    "##### Answer."
   ]
  },
  {
   "cell_type": "code",
   "execution_count": 17,
   "id": "223a5245",
   "metadata": {},
   "outputs": [
    {
     "data": {
      "text/plain": [
       "[42]"
      ]
     },
     "execution_count": 17,
     "metadata": {},
     "output_type": "execute_result"
    }
   ],
   "source": [
    "d = ([42])\n",
    "\n",
    "d"
   ]
  },
  {
   "cell_type": "code",
   "execution_count": 18,
   "id": "32afab46",
   "metadata": {},
   "outputs": [
    {
     "data": {
      "text/plain": [
       "42"
      ]
     },
     "execution_count": 18,
     "metadata": {},
     "output_type": "execute_result"
    }
   ],
   "source": [
    "d[0]"
   ]
  },
  {
   "cell_type": "markdown",
   "id": "d338dbaf",
   "metadata": {},
   "source": [
    "## 15. How do you get a list value's tuple form? How do you get a tuple value's list form?\n",
    "##### Answer."
   ]
  },
  {
   "cell_type": "code",
   "execution_count": 19,
   "id": "afb63345",
   "metadata": {},
   "outputs": [
    {
     "data": {
      "text/plain": [
       "('a', 'b', 'c', 'd', 'e', 'f')"
      ]
     },
     "execution_count": 19,
     "metadata": {},
     "output_type": "execute_result"
    }
   ],
   "source": [
    "# 1. list to tuple\n",
    "\n",
    "e = ['a','b','c','d','e','f']\n",
    "\n",
    "f = tuple(e)\n",
    "\n",
    "f"
   ]
  },
  {
   "cell_type": "code",
   "execution_count": 20,
   "id": "671ac77d",
   "metadata": {},
   "outputs": [
    {
     "data": {
      "text/plain": [
       "['a', 'b', 'c', 'd', 'e', 'f']"
      ]
     },
     "execution_count": 20,
     "metadata": {},
     "output_type": "execute_result"
    }
   ],
   "source": [
    "# 2. tuple to list\n",
    "\n",
    "e = ('a','b','c','d','e','f')\n",
    "\n",
    "f = list(e)\n",
    "\n",
    "f"
   ]
  },
  {
   "cell_type": "markdown",
   "id": "d16feb13",
   "metadata": {},
   "source": [
    "## 16. Variables that \"contain\" list values are not necessarily lists themselves. Instead, what do they contain?\n",
    "##### Answer.\n",
    "They contain references to the list values"
   ]
  },
  {
   "cell_type": "code",
   "execution_count": 21,
   "id": "2aca7073",
   "metadata": {},
   "outputs": [
    {
     "name": "stdout",
     "output_type": "stream",
     "text": [
      "['a', 'b', 'c', 'd', 'e']\n",
      "1208785413376\n"
     ]
    }
   ],
   "source": [
    "g = ['a','b','c','d','e']\n",
    "print(g)\n",
    "print(id(g))"
   ]
  },
  {
   "cell_type": "markdown",
   "id": "ced162f7",
   "metadata": {},
   "source": [
    "## 17. How do you distinguish between copy.copy() and copy.deepcopy()?\n",
    "##### Answer.\n",
    "- copy() returns a shallow copy of list and deepcopy() return a deep copy of list.\n",
    "- deepcopy: In case of deep copy, a copy of object is copied in other object. It means that any changes made to a copy of object do not reflect in the original object.\n",
    "- shallow copy: In case of shallow copy, a reference of object is copied in other object. It means that any changes made to a copy of object do reflect in the original object."
   ]
  }
 ],
 "metadata": {
  "kernelspec": {
   "display_name": "Python 3 (ipykernel)",
   "language": "python",
   "name": "python3"
  },
  "language_info": {
   "codemirror_mode": {
    "name": "ipython",
    "version": 3
   },
   "file_extension": ".py",
   "mimetype": "text/x-python",
   "name": "python",
   "nbconvert_exporter": "python",
   "pygments_lexer": "ipython3",
   "version": "3.9.7"
  }
 },
 "nbformat": 4,
 "nbformat_minor": 5
}
